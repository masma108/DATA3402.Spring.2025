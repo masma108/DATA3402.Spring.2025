{
  "cells": [
    {
      "cell_type": "markdown",
      "metadata": {
        "id": "nuqXJ_zSWy0I"
      },
      "source": [
        "# Lab 3\n",
        "\n",
        "In this lab we will become familiar with distributions, histograms, and functional programming. Do not use numpy or any other library for this lab.\n",
        "\n",
        "Before that, lets get setup homework submission and submit your previous lab.  \n",
        "\n",
        "## Working on the Command-line.\n",
        "\n",
        "It is important for you to learn to work on the command line and to be familiar with the Unix environment (e.g. Linux, Mac OS, or Windows Linux Subsystem). We'll go over working on the command-line in detail later in the course.\n",
        "\n",
        "You are required to submit your work in this course via GitHub. Today in class, you will setup everything on the command-line.\n",
        "\n",
        "### Command-line basics\n",
        "\n",
        "There is plenty of material online that will help you figure out how to do various tasks on the command line. Commands you may need to know today:\n",
        "\n",
        "* `ls`: lists the contents of the current directory.\n",
        "* `pwd`: prints the path of the current directory.\n",
        "* `cd <directory>`: changes your current directory to the specified directory.\n",
        "* `cd ..`: changes current directory to the previous directory. Basically steps out of the current directory to the directory containing the current directory.\n",
        "* `mkdir <directory>`: create a new directory with the specified name.\n",
        "* `rmdir <directory>`: removes the specified directory. Note it has to be empty.\n",
        "* `rm <filename>`: deletes the specified file.\n",
        "* `mv <filename 1> <filename 2>`: Moves or renames a file.\n",
        "* `cp <filename 1> <filename 2>`: copies an file. If you just provide a path to a directory, it copies the file into that directory with the same filename. If you specifiy a new filename, the copy has a new name. For example `cp File.1.txt File.2.txt` creates a copy of `File.1.txt` with the name `File.2.txt`. Meanwhile `cp File.1.txt my_directory`, where `my_directory` is a directory, creates a copy of `File.1.txt` in directory `my_directory` with the name `File.1.txt`.\n",
        "\n",
        "For reference, here are some example resources I found by googling:\n",
        "\n",
        "* Paths and Wildcards: https://www.warp.dev/terminus/linux-wildcards\n",
        "* Basic commands like copy: https://kb.iu.edu/d/afsk\n",
        "* General introduction to shell: https://github-pages.ucl.ac.uk/RCPSTrainingMaterials/HPCandHTCusingLegion/2_intro_to_shell.html\n",
        "* Manual pages: https://www.geeksforgeeks.org/linux-man-page-entries-different-types/?ref=ml_lbp\n",
        "* Chaining commands: https://www.geeksforgeeks.org/chaining-commands-in-linux/?ref=ml_lbp\n",
        "* Piping: https://www.geeksforgeeks.org/piping-in-unix-or-linux/\n",
        "* Using sed: https://www.geeksforgeeks.org/sed-command-linux-set-2/?ref=ml_lbp\n",
        "* Various Unix commands: https://www.geeksforgeeks.org/linux-commands/?ref=lbp\n",
        "* Cheat sheets:\n",
        "    * https://www.stationx.net/unix-commands-cheat-sheet/\n",
        "    * https://cheatography.com/davechild/cheat-sheets/linux-command-line/\n",
        "    * https://www.theknowledgeacademy.com/blog/unix-commands-cheat-sheet/\n",
        "    \n",
        "These aren't necessarily the best resources. Feel free to search for better ones. Also, don't forget that Unix has built-in manual pages for all of its commands. Just type `man <command>` at the command prompt. Use the space-bar to scroll through the documentation and \"q\" to exit.\n",
        "\n",
        "\n",
        "### Setup and Submission\n",
        "\n",
        "Our course repository is public. The instructions here aim to have you setup a fork of the course repository. Unfortunately because you are forking a public repo, your fork will have to be public also.\n",
        "\n",
        "You should be familiar with git from the first semester of this course. I assume that you all have github accounts and have setup things to be able to [push to github using ssh](https://docs.github.com/en/github/authenticating-to-github/connecting-to-github-with-ssh). The instuctions here lead you to:\n",
        "\n",
        "We'll overview what you will do before going through step by step instructions.\n",
        "\n",
        "1. Setup:\n",
        "    1. Fork the class repository. Some directions in [fork-a-repo](https://docs.github.com/en/github/getting-started-with-github/fork-a-repo).\n",
        "    1. Create a directory on your personal system where you will keep all course materials.\n",
        "    1. In that directory, clone your fork of the repository.\n",
        "    1. Using `git remote`, set the upstream to be the class repo, so you can pull from the class and push to your fork.\n",
        "\n",
        "1. Submission:\n",
        "    1. Copy your solutions into the appropriate directory (e.g. into `Labs/Lab.2/`) and with appropriate filename `Lab.2.solution.ipynb'.\n",
        "    1. Commit / push your solutions.\n",
        "\n",
        "Below are step by step instructions with examples (including example directory naming convention). Feel free to modify things as you see fit.\n",
        "\n",
        "#### Setup\n",
        "You should only need to follow this instructions once. Here are some useful git commands:\n",
        "\n",
        "* Git help: `git help`\n",
        "* Git remote help: `git help remote`\n",
        "* Check remote status: `git remote -v`\n",
        "* Add a remote: `git remote add <stream name> <repo URL>`\n",
        "* Add a remove: `git remote remove <stream name>`\n",
        "\n",
        "Steps:\n",
        "1. In a browser, log into GitHub and navigate to the [course repository](https://github.com/UTA-DataScience/DATA3402.Spring.2025).\n",
        "1. On the top right of the page, press the fork button to create a new fork into your own GitHub account.\n",
        "1. After successful fork, you should find the browser showing your fork of the course repository. Use the green \"Code\" button to copy path to the repo into your the clipboard of your computer.\n",
        "1. Open a shell on your personal computer.\n",
        "1. If you have not done so already, create a new directory/folder where you will keep all course material to navigate to it. For example: `mkdir Data-3402` and `cd Data-3402`.\n",
        "1. Clone your fork of the repository using `git clone` followed by the path you copied into your clipboard. (copy/paste)\n",
        "1. Paste the URL to your fork in the worksheet for the TAs and instructors.\n",
        "1. Now go into the directory of your clone (`cd DATA3402.Spring.2025`).\n",
        "1. Type `git remote -v` to see the current setup for fetch and pull.\n",
        "1. Note the URL you see. This should be the same as what you used for your clone for both push and fetch.\n",
        "1. Delete the origin remote using `git remote remove origin`.\n",
        "1. Add the course repo as your remote using `git remote add origin https://github.com/UTA-DataScience/DATA3402.Spring.2025.git`.\n",
        "1. Change the push to point to your fork. This means you will need the URL to your clone we copied earlier and confirmed as the original origin. The command will look something like: `git remote set-url --push origin  https://github.com/XXXXXX/DATA3402.Spring.2025.git`, where XXXXX is your username on GitHub.\n",
        "1. Note that if you setup everything correctly, you now should be able to do `git pull` to get updates from the course repo, and do `git push` to push your commits into your own fork.\n",
        "\n",
        "### Submission\n",
        "These instructions outline how you submit files. Some useful commands:\n",
        "* To add a file to local repository: `git add <file>`.\n",
        "* To commit all changed files into local repository: `git -a -m \"A message\"`. You need to provide some comment when you commit.\n",
        "* To push the commited files from the local repository to GitHub: `git push`.\n",
        "* To get updates from GitHub: `git pull`.\n",
        "\n",
        "Steps:\n",
        "1. To submit your labs, navigate to your clone of your fork of the course repository.\n",
        "1. Use `git pull` to make sure you have the latest updates.\n",
        "1. Make sure your copy of the lab your are working on is in the appropriate place in this clone. That means if you have the file elsewhere, copy it to the same directory in your clone of your fork.\n",
        "1. Note that in order to avoid future conflicts, you should always name your solution differently than the original file in the class repo. For example if your file is still named `Lab.2.ipynb` you should rename it using the `mv` command: `mv Lab.2.ipynb Lab.2.solution.ipynb`.\n",
        "1. Add and files you wish to submit into the repo. For example: `git add Labs/Lab.2/Lab.2.solution.ipynb`\n",
        "1. Commit any changes: `git commit -a -m \"Lab 2 updates\"`\n",
        "1. Push your changes: `git push`\n",
        "1. Check on github website that your solutions have been properly submitted.\n",
        "\n",
        "Before you leave the session today, make sure your GitHub Repo is setup. If you need to work further on your lab, navigate jupyter to the copy of the lab you just submitted and work there. Once done, repeat the commit and push commands to submit your updated solution. Note that lab 2 is due by midnight Friay 1/31/2025.\n"
      ]
    },
    {
      "cell_type": "markdown",
      "metadata": {
        "id": "Gc4WTltEWy0M"
      },
      "source": [
        "### Uniform Distribution\n",
        "Lets start with generating some fake random data. You can get a random number between 0 and 1 using the python random module as follow:"
      ]
    },
    {
      "cell_type": "code",
      "execution_count": 37,
      "metadata": {
        "colab": {
          "base_uri": "https://localhost:8080/"
        },
        "id": "24YA8l5-Wy0N",
        "outputId": "2ec36977-dbe1-4d98-a067-f963ab1a555b"
      },
      "outputs": [
        {
          "output_type": "stream",
          "name": "stdout",
          "text": [
            "0.5699706502510814\n"
          ]
        }
      ],
      "source": [
        "import random\n",
        "\n",
        "# Generate a random number between 0 and 1\n",
        "random_number = random.random()\n",
        "\n",
        "print(random_number)"
      ]
    },
    {
      "cell_type": "code",
      "source": [
        "random_numbers = [random.random() for _ in range(10)]\n",
        "\n",
        "print(random_numbers)"
      ],
      "metadata": {
        "colab": {
          "base_uri": "https://localhost:8080/"
        },
        "id": "QVhAs75Fhlfo",
        "outputId": "e38f1450-c1d4-476e-cdb5-e9214aa7eec8"
      },
      "execution_count": 39,
      "outputs": [
        {
          "output_type": "stream",
          "name": "stdout",
          "text": [
            "[0.1392460782291305, 0.37392205713395277, 0.8144535184693843, 0.12288698568822276, 0.27642942755392896, 0.8419896480675604, 0.3470426083747158, 0.2807247528360737, 0.5400459841021847, 0.31134490674120496]\n"
          ]
        }
      ]
    },
    {
      "cell_type": "markdown",
      "metadata": {
        "id": "q_hgr6HqWy0O"
      },
      "source": [
        "Everytime you call random, you will get a new number.\n",
        "\n",
        "*Exercise 1:* Using random, write a function `generate_uniform(N, mymin, mymax)`, that returns a python list containing N random numbers between specified minimum and maximum value. Note that you may want to quickly work out on paper how to turn numbers between 0 and 1 to between other values."
      ]
    },
    {
      "cell_type": "code",
      "execution_count": 40,
      "metadata": {
        "colab": {
          "base_uri": "https://localhost:8080/"
        },
        "id": "gOqmGNp-Wy0O",
        "outputId": "e3f6afee-116c-42a4-8feb-808a9a1ebca3"
      },
      "outputs": [
        {
          "output_type": "stream",
          "name": "stdout",
          "text": [
            "[12.371660004550336, 13.767374672875023, 13.828076595647394, 14.975527266197918, 6.410983982112092, 9.65804571972238, 11.568439471734486, 10.069148623941203, 14.483257805979221, 7.0700327525303965]\n"
          ]
        }
      ],
      "source": [
        "import random\n",
        "\n",
        "def generate_uniform(N, mymin, mymax):\n",
        "    random_numbers = [mymin + (mymax - mymin) * random.random() for _ in range(N)]\n",
        "    return random_numbers\n",
        "\n",
        "# Example\n",
        "N = 10\n",
        "mymin = 5\n",
        "mymax = 15\n",
        "\n",
        "random_numbers = generate_uniform(N, mymin, mymax)\n",
        "print(random_numbers)"
      ]
    },
    {
      "cell_type": "code",
      "execution_count": 5,
      "metadata": {
        "colab": {
          "base_uri": "https://localhost:8080/"
        },
        "id": "4SUEt7QwWy0O",
        "outputId": "04f372cf-de56-4425-9668-04821399aa39"
      },
      "outputs": [
        {
          "output_type": "stream",
          "name": "stdout",
          "text": [
            "Data Type: <class 'list'>\n",
            "Data Length: 1000\n",
            "Type of Data Contents: <class 'float'>\n",
            "Data Minimum: -9.990489813443272\n",
            "Data Maximum: 9.99381989576769\n"
          ]
        }
      ],
      "source": [
        "data = generate_uniform(1000, -10, 10)\n",
        "print(\"Data Type:\", type(data))\n",
        "print(\"Data Length:\", len(data))\n",
        "\n",
        "if len(data) > 0:\n",
        "    print(\"Type of Data Contents:\", type(data[0]))\n",
        "    print(\"Data Minimum:\", min(data))\n",
        "    print(\"Data Maximum:\", max(data))"
      ]
    },
    {
      "cell_type": "markdown",
      "metadata": {
        "id": "u42QjfQpWy0O"
      },
      "source": [
        "*Exercise 2a:*\n",
        "Write a function that computes the mean of values in a list. Recall the equation for the mean of a random variable $\\bf{x}$ computed on a data set of $n$ values $\\{ x_i \\} = \\{x_1, x_2, ..., x_n\\}$  is ${\\bf\\bar{x}} = \\frac{1}{n} \\sum_i^n x_i$."
      ]
    },
    {
      "cell_type": "code",
      "execution_count": 6,
      "metadata": {
        "id": "di2BZiBSWy0P"
      },
      "outputs": [],
      "source": [
        "def mean(Data):\n",
        "    m=0.\n",
        "    total_sum = sum(Data)\n",
        "    m = total_sum / len(Data) if len(Data) > 0 else 0\n",
        "    return m"
      ]
    },
    {
      "cell_type": "code",
      "execution_count": 7,
      "metadata": {
        "colab": {
          "base_uri": "https://localhost:8080/"
        },
        "id": "9yeZravMWy0P",
        "outputId": "0d559d66-22cb-4e11-92d6-573dcf093414"
      },
      "outputs": [
        {
          "output_type": "stream",
          "name": "stdout",
          "text": [
            "Mean of Data: 0.03520224387823215\n"
          ]
        }
      ],
      "source": [
        "print (\"Mean of Data:\", mean(data))"
      ]
    },
    {
      "cell_type": "markdown",
      "metadata": {
        "id": "UEgaUuAfWy0P"
      },
      "source": [
        "*Exercise 2b:*\n",
        "Write a function that computes the variance of values in a list. Recall the equation for the variance of a random variable $\\bf{x}$ computed on a data set of $n$ values $\\{ x_i \\} = \\{x_1, x_2, ..., x_n\\}$  is ${\\bf\\langle x \\rangle} = \\frac{1}{n-1} \\sum_i^n (x_i - {\\bf\\bar{x}})^2$."
      ]
    },
    {
      "cell_type": "code",
      "execution_count": 8,
      "metadata": {
        "id": "0cLGgsW1Wy0P"
      },
      "outputs": [],
      "source": [
        "def variance(Data):\n",
        "    m = mean(Data)\n",
        "    squared_diff_sum = sum((x - m) ** 2 for x in Data)\n",
        "    var = squared_diff_sum / (len(Data) - 1) if len(Data) > 1 else 0\n",
        "    return var"
      ]
    },
    {
      "cell_type": "code",
      "execution_count": 9,
      "metadata": {
        "colab": {
          "base_uri": "https://localhost:8080/"
        },
        "id": "VVsCT8lPWy0P",
        "outputId": "251ec309-1903-4de7-a9a0-cfa5b8b3bff2"
      },
      "outputs": [
        {
          "output_type": "stream",
          "name": "stdout",
          "text": [
            "Variance of Data: 34.07346516264233\n"
          ]
        }
      ],
      "source": [
        "# Test your solution here\n",
        "print (\"Variance of Data:\", variance(data))"
      ]
    },
    {
      "cell_type": "markdown",
      "metadata": {
        "id": "O47_01WhWy0P"
      },
      "source": [
        "## Histogramming"
      ]
    },
    {
      "cell_type": "markdown",
      "metadata": {
        "id": "NxRB3B5DWy0Q"
      },
      "source": [
        "*Exercise 3:* Write a function that bins the data so that you can create a histogram. An example of how to implement histogramming is the following logic:\n",
        "\n",
        "* User inputs a list of values `x` and optionally `n_bins` which defaults to 10.\n",
        "* If not supplied, find the minimum and maximum (`x_min`,`x_max`) of the values in x.\n",
        "* Determine the bin size (`bin_size`) by dividing the range of the function by the number of bins.\n",
        "* Create an empty list of zeros of size `n_bins`, call it `hist`.\n",
        "* Loop over the values in `x`\n",
        "    * Loop over the values in `hist` with index `i`:\n",
        "        * If x is between `x_min+i*bin_size` and `x_min+(i+1)*bin_size`, increment `hist[i].`\n",
        "        * For efficiency, try to use continue to goto the next bin and data point.\n",
        "* Return `hist` and the list corresponding of the bin edges (i.e. of `x_min+i*bin_size`).    "
      ]
    },
    {
      "cell_type": "code",
      "execution_count": 10,
      "metadata": {
        "id": "K-JRdAWOWy0Q"
      },
      "outputs": [],
      "source": [
        "def histogram(x, n_bins=10, x_min=None, x_max=None):\n",
        "    if x_min is None:\n",
        "        x_min = min(x)\n",
        "    if x_max is None:\n",
        "        x_max = max(x)\n",
        "\n",
        "    bin_size = (x_max - x_min) / n_bins\n",
        "    hist = [0] * n_bins\n",
        "    bin_edges = [x_min + i * bin_size for i in range(n_bins + 1)]\n",
        "\n",
        "    for value in x:\n",
        "        for i in range(n_bins):\n",
        "            if x_min + i * bin_size <= value < x_min + (i + 1) * bin_size:\n",
        "                hist[i] += 1\n",
        "                break  # Move to the next value in x\n",
        "\n",
        "    return hist, bin_edges"
      ]
    },
    {
      "cell_type": "code",
      "execution_count": 11,
      "metadata": {
        "colab": {
          "base_uri": "https://localhost:8080/"
        },
        "id": "w8tweG2hWy0Q",
        "outputId": "43c65101-285c-4f00-be0f-e703b10dac98"
      },
      "outputs": [
        {
          "output_type": "stream",
          "name": "stdout",
          "text": [
            "[14, 8, 18, 12, 12, 5, 17, 6, 13, 9, 10, 11, 9, 6, 10, 12, 7, 12, 4, 5, 10, 9, 9, 7, 7, 17, 7, 7, 6, 11, 9, 10, 8, 10, 11, 9, 10, 12, 9, 9, 8, 10, 14, 14, 4, 9, 18, 10, 8, 14, 10, 6, 10, 10, 11, 14, 11, 13, 14, 7, 7, 15, 14, 9, 10, 3, 11, 10, 8, 10, 10, 11, 12, 12, 10, 7, 10, 15, 7, 9, 9, 10, 7, 7, 13, 6, 9, 11, 10, 9, 13, 10, 7, 6, 7, 10, 9, 12, 17, 15]\n"
          ]
        }
      ],
      "source": [
        "# Test your solution here\n",
        "h,b=histogram(data,100)\n",
        "print(h)"
      ]
    },
    {
      "cell_type": "markdown",
      "metadata": {
        "id": "wDc-PVMEWy0Q"
      },
      "source": [
        "*Exercise 4:* Write a function that uses the histogram function in the previous exercise to create a text-based \"graph\". For example the output could look like the following:\n",
        "```\n",
        "[  0,  1] : ######\n",
        "[  1,  2] : #####\n",
        "[  2,  3] : ######\n",
        "[  3,  4] : ####\n",
        "[  4,  5] : ####\n",
        "[  5,  6] : ######\n",
        "[  6,  7] : #####\n",
        "[  7,  8] : ######\n",
        "[  8,  9] : ####\n",
        "[  9, 10] : #####\n",
        "```\n",
        "\n",
        "Where each line corresponds to a bin and the number of `#`'s are proportional to the value of the data in the bin."
      ]
    },
    {
      "cell_type": "code",
      "execution_count": 15,
      "metadata": {
        "id": "Kd7DGiEEWy0Q"
      },
      "outputs": [],
      "source": [
        "def draw_histogram(x, n_bins, x_min=None, x_max=None, character=\"#\", max_character_per_line=20):\n",
        "    hist, bin_edges = histogram(x, n_bins, x_min, x_max)\n",
        "\n",
        "    for i in range(n_bins):\n",
        "        num_characters = min(hist[i], max_character_per_line)\n",
        "        print(f\"[{bin_edges[i]:.1f}, {bin_edges[i+1]:.1f}] : {character * num_characters}\")\n",
        "\n",
        "    return hist, bin_edges\n"
      ]
    },
    {
      "cell_type": "code",
      "execution_count": 16,
      "metadata": {
        "id": "uxIAw5k8Wy0R"
      },
      "outputs": [],
      "source": [
        "# Test your solution here\n",
        "h,b=histogram(data,20)"
      ]
    },
    {
      "cell_type": "markdown",
      "metadata": {
        "id": "Nc0j5J6lWy0R"
      },
      "source": [
        "## Functional Programming\n",
        "\n",
        "*Exercise 5:* Write a function the applies a booling function (that returns true/false) to every element in data, and return a list of indices of elements where the result was true. Use this function to find the indices of entries greater than 0.5."
      ]
    },
    {
      "cell_type": "code",
      "execution_count": 17,
      "metadata": {
        "id": "ESnXJzQEWy0R"
      },
      "outputs": [],
      "source": [
        "def where(mylist, myfunc):\n",
        "    out = []\n",
        "\n",
        "    for i, value in enumerate(mylist):\n",
        "        if myfunc(value):\n",
        "            out.append(i)\n",
        "\n",
        "    return out"
      ]
    },
    {
      "cell_type": "code",
      "execution_count": 19,
      "metadata": {
        "colab": {
          "base_uri": "https://localhost:8080/"
        },
        "id": "TjDX91kDWy0R",
        "outputId": "884d5c88-9595-4637-fdc3-497f2e9cef41"
      },
      "outputs": [
        {
          "output_type": "stream",
          "name": "stdout",
          "text": [
            "[1, 2, 4]\n"
          ]
        }
      ],
      "source": [
        "data = [0.2, 0.6, 0.8, 0.3, 0.9]\n",
        "\n",
        "def greater_than_half(x):\n",
        "    return x > 0.5\n",
        "\n",
        "indices = where(data, greater_than_half)\n",
        "print(indices)"
      ]
    },
    {
      "cell_type": "markdown",
      "metadata": {
        "id": "29NXG5qTWy0R"
      },
      "source": [
        "*Exercise 6:* The `inrange(mymin,mymax)` function below returns a function that tests if it's input is between the specified values. Write corresponding functions that test:\n",
        "* Even\n",
        "* Odd\n",
        "* Greater than\n",
        "* Less than\n",
        "* Equal\n",
        "* Divisible by"
      ]
    },
    {
      "cell_type": "code",
      "execution_count": null,
      "metadata": {
        "id": "oaFwRf6bWy0R"
      },
      "outputs": [],
      "source": [
        "def in_range(mymin,mymax):\n",
        "    def testrange(x):\n",
        "        return x<mymax and x>=mymin\n",
        "    return testrange\n",
        "\n",
        "# Examples:\n",
        "F1=inrange(0,10)\n",
        "F2=inrange(10,20)\n",
        "\n",
        "# Test of in_range\n",
        "print (F1(0), F1(1), F1(10), F1(15), F1(20))\n",
        "print (F2(0), F2(1), F2(10), F2(15), F2(20))\n",
        "\n",
        "print (\"Number of Entries passing F1:\", len(where(data,F1)))\n",
        "print (\"Number of Entries passing F2:\", len(where(data,F2)))"
      ]
    },
    {
      "cell_type": "code",
      "execution_count": 20,
      "metadata": {
        "id": "UK0lM_2fWy0R"
      },
      "outputs": [],
      "source": [
        "def in_range(mymin, mymax):\n",
        "    def testrange(x):\n",
        "        return x < mymax and x >= mymin\n",
        "    return testrange\n",
        "\n",
        "# Even\n",
        "def even():\n",
        "    def test_even(x):\n",
        "        return x % 2 == 0\n",
        "    return test_even\n",
        "\n",
        "# Odd\n",
        "def odd():\n",
        "    def test_odd(x):\n",
        "        return x % 2 != 0\n",
        "    return test_odd\n",
        "\n",
        "# Greater than\n",
        "def greater_than(value):\n",
        "    def test_gt(x):\n",
        "        return x > value\n",
        "    return test_gt\n",
        "\n",
        "# Less than\n",
        "def less_than(value):\n",
        "    def test_lt(x):\n",
        "        return x < value\n",
        "    return test_lt\n",
        "\n",
        "# Equal\n",
        "def equal(value):\n",
        "    def test_eq(x):\n",
        "        return x == value\n",
        "    return test_eq\n",
        "\n",
        "# Divisible by\n",
        "def divisible_by(value):\n",
        "    def test_div(x):\n",
        "        return x % value == 0\n",
        "    return test_div\n"
      ]
    },
    {
      "cell_type": "code",
      "execution_count": 24,
      "metadata": {
        "colab": {
          "base_uri": "https://localhost:8080/"
        },
        "id": "sUmdd8gWWy0S",
        "outputId": "5ad52be1-1f9c-4b1e-9364-483ef9d1220e"
      },
      "outputs": [
        {
          "output_type": "stream",
          "name": "stdout",
          "text": [
            "True True False False False\n",
            "False False True True False\n",
            "Even: [2, 4, 6]\n",
            "Odd: [0.2, 0.6, 0.8, 0.3, 0.9, 3, 5]\n",
            "Greater than 0.5: [0.6, 0.8, 0.9, 2, 3, 4, 5, 6]\n",
            "Less than 5: [0.2, 0.6, 0.8, 0.3, 0.9, 2, 3, 4]\n",
            "Equal to 3: [3]\n",
            "Divisible by 2: [2, 4, 6]\n",
            "Number of Entries passing F1: 10\n",
            "Number of Entries passing F2: 0\n",
            "Number of Entries passing F3 (Even): 3\n",
            "Number of Entries passing F4 (Odd): 7\n",
            "Number of Entries passing F5 (Greater than 0.5): 8\n",
            "Number of Entries passing F6 (Less than 5): 8\n",
            "Number of Entries passing F7 (Equal to 3): 1\n",
            "Number of Entries passing F8 (Divisible by 2): 3\n"
          ]
        }
      ],
      "source": [
        "data = [0.2, 0.6, 0.8, 0.3, 0.9, 2, 3, 4, 5, 6]\n",
        "\n",
        "# Creating function instances for each condition\n",
        "F1 = in_range(0, 10)\n",
        "F2 = in_range(10, 20)\n",
        "F3 = even()\n",
        "F4 = odd()\n",
        "F5 = greater_than(0.5)\n",
        "F6 = less_than(5)\n",
        "F7 = equal(3)\n",
        "F8 = divisible_by(2)\n",
        "\n",
        "# Test\n",
        "print(F1(0), F1(1), F1(10), F1(15), F1(20))\n",
        "print(F2(0), F2(1), F2(10), F2(15), F2(20))\n",
        "\n",
        "# Test\n",
        "print(\"Even:\", [x for x in data if F3(x)])\n",
        "print(\"Odd:\", [x for x in data if F4(x)])\n",
        "print(\"Greater than 0.5:\", [x for x in data if F5(x)])\n",
        "print(\"Less than 5:\", [x for x in data if F6(x)])\n",
        "print(\"Equal to 3:\", [x for x in data if F7(x)])\n",
        "print(\"Divisible by 2:\", [x for x in data if F8(x)])\n",
        "\n",
        "# Count the number of entries passing each condition\n",
        "print(\"Number of Entries passing F1:\", len(where(data, F1)))\n",
        "print(\"Number of Entries passing F2:\", len(where(data, F2)))\n",
        "print(\"Number of Entries passing F3 (Even):\", len(where(data, F3)))\n",
        "print(\"Number of Entries passing F4 (Odd):\", len(where(data, F4)))\n",
        "print(\"Number of Entries passing F5 (Greater than 0.5):\", len(where(data, F5)))\n",
        "print(\"Number of Entries passing F6 (Less than 5):\", len(where(data, F6)))\n",
        "print(\"Number of Entries passing F7 (Equal to 3):\", len(where(data, F7)))\n",
        "print(\"Number of Entries passing F8 (Divisible by 2):\", len(where(data, F8)))"
      ]
    },
    {
      "cell_type": "markdown",
      "metadata": {
        "id": "I1SyiY2LWy0S"
      },
      "source": [
        "*Exercise 7:* Repeat the previous exercise using `lambda` and the built-in python functions sum and map instead of your solution above."
      ]
    },
    {
      "cell_type": "code",
      "source": [
        "F3 = lambda x: int(x) % 2 == 0\n",
        "\n",
        "F4 = lambda x: int(x) % 2 != 0"
      ],
      "metadata": {
        "id": "wt7NmN68cSog"
      },
      "execution_count": 26,
      "outputs": []
    },
    {
      "cell_type": "code",
      "execution_count": 27,
      "metadata": {
        "colab": {
          "base_uri": "https://localhost:8080/"
        },
        "id": "kZo2zh4wWy0S",
        "outputId": "27537809-f96e-4cc6-af1a-65c19482b543"
      },
      "outputs": [
        {
          "output_type": "stream",
          "name": "stdout",
          "text": [
            "Number of Entries passing F3 (Even): 8\n",
            "Number of Entries passing F4 (Odd): 2\n",
            "Number of Entries passing F5 (Greater than 0.5): 8\n",
            "Number of Entries passing F6 (Less than 5): 8\n",
            "Number of Entries passing F7 (Equal to 3): 1\n",
            "Number of Entries passing F8 (Divisible by 2): 8\n"
          ]
        }
      ],
      "source": [
        "data = [0.2, 0.6, 0.8, 0.3, 0.9, 2, 3, 4, 5, 6]\n",
        "\n",
        "F3 = lambda x: int(x) % 2 == 0\n",
        "\n",
        "F4 = lambda x: int(x) % 2 != 0\n",
        "\n",
        "F5 = lambda x: x > 0.5\n",
        "\n",
        "F6 = lambda x: x < 5\n",
        "\n",
        "F7 = lambda x: x == 3\n",
        "\n",
        "F8 = lambda x: int(x) % 2 == 0\n",
        "\n",
        "print(\"Number of Entries passing F3 (Even):\", sum(map(F3, data)))\n",
        "print(\"Number of Entries passing F4 (Odd):\", sum(map(F4, data)))\n",
        "print(\"Number of Entries passing F5 (Greater than 0.5):\", sum(map(F5, data)))\n",
        "print(\"Number of Entries passing F6 (Less than 5):\", sum(map(F6, data)))\n",
        "print(\"Number of Entries passing F7 (Equal to 3):\", sum(map(F7, data)))\n",
        "print(\"Number of Entries passing F8 (Divisible by 2):\", sum(map(F8, data)))"
      ]
    },
    {
      "cell_type": "markdown",
      "metadata": {
        "id": "nOMtUKtkWy0S"
      },
      "source": [
        "## Monte Carlo\n",
        "\n",
        "*Exercise 7:* Write a \"generator\" function called `generate_function(func,x_min,x_max,N)`, that instead of generating a flat distribution, generates a distribution with functional form coded in `func`. Note that `func` will always be > 0.  \n",
        "\n",
        "Use the test function below and your histogramming functions above to demonstrate that your generator is working properly.\n",
        "\n",
        "Hint: A simple, but slow, solution is to a draw random number `test_x` within the specified range and another number `p` between the `min` and `max` of the function (which you will have to determine). If `p<=function(test_x)`, then place `test_x` on the output. If not, repeat the process, drawing two new numbers. Repeat until you have the specified number of generated numbers, `N`. For this problem, it's OK to determine the `min` and `max` by numerically sampling the function.  "
      ]
    },
    {
      "cell_type": "code",
      "execution_count": 33,
      "metadata": {
        "colab": {
          "base_uri": "https://localhost:8080/",
          "height": 598
        },
        "id": "7lSTFViIWy0S",
        "outputId": "df665c9a-09e7-4912-9b55-8cf4be99ed0d"
      },
      "outputs": [
        {
          "output_type": "display_data",
          "data": {
            "text/plain": [
              "<Figure size 800x600 with 1 Axes>"
            ],
            "image/png": "[encoded data removed]"
          },
          "metadata": {}
        },
        {
          "output_type": "stream",
          "name": "stdout",
          "text": [
            "Generated Mean: 0.03789441328272117\n",
            "Generated Variance: 0.9974447608741589\n"
          ]
        }
      ],
      "source": [
        "import numpy as np\n",
        "import matplotlib.pyplot as plt\n",
        "\n",
        "def generate_function(func, x_min, x_max, N):\n",
        "    samples = []\n",
        "\n",
        "    x_values = np.linspace(x_min, x_max, 1000)\n",
        "    y_values = func(x_values)\n",
        "    max_func_value = np.max(y_values)\n",
        "\n",
        "    while len(samples) < N:\n",
        "        test_x = np.random.uniform(x_min, x_max)\n",
        "\n",
        "        p = np.random.uniform(0, max_func_value)\n",
        "\n",
        "        if p <= func(test_x):\n",
        "            samples.append(test_x)\n",
        "\n",
        "    return np.array(samples)\n",
        "\n",
        "def test_func(x):\n",
        "    return np.exp(-0.5 * (x**2)) / np.sqrt(2 * np.pi)\n",
        "\n",
        "x_min = -5\n",
        "x_max = 5\n",
        "N = 1000\n",
        "\n",
        "generated_samples = generate_function(test_func, x_min, x_max, N)\n",
        "\n",
        "plt.figure(figsize=(8, 6))\n",
        "plt.hist(generated_samples, bins=30, edgecolor='black', alpha=0.7)\n",
        "plt.title(\"Histogram of Samples Generated Using Functional Form\")\n",
        "plt.xlabel(\"Value\")\n",
        "plt.ylabel(\"Frequency\")\n",
        "plt.grid(True)\n",
        "plt.show()\n",
        "\n",
        "generated_mean = np.mean(generated_samples)\n",
        "generated_variance = np.var(generated_samples)\n",
        "\n",
        "print(f\"Generated Mean: {generated_mean}\")\n",
        "print(f\"Generated Variance: {generated_variance}\")"
      ]
    },
    {
      "cell_type": "markdown",
      "metadata": {
        "id": "F9qjb0aWWy0S"
      },
      "source": [
        "*Exercise 8:* Use your function to generate 1000 numbers that are normal distributed, using the `gaussian` function below. Confirm the mean and variance of the data is close to the mean and variance you specify when building the Gaussian. Histogram the data."
      ]
    },
    {
      "cell_type": "code",
      "execution_count": 32,
      "metadata": {
        "colab": {
          "base_uri": "https://localhost:8080/",
          "height": 598
        },
        "id": "qBc8_iq1Wy0T",
        "outputId": "b84f84a8-98f1-40d9-aa40-19da3a4a80c0"
      },
      "outputs": [
        {
          "output_type": "display_data",
          "data": {
            "text/plain": [
              "<Figure size 800x600 with 1 Axes>"
            ],
            "image/png": "[encoded data removed]"
          },
          "metadata": {}
        },
        {
          "output_type": "stream",
          "name": "stdout",
          "text": [
            "Generated Mean: 0.0024152487910967615\n",
            "Generated Variance: 1.075065050210414\n"
          ]
        }
      ],
      "source": [
        "import numpy as np\n",
        "import matplotlib.pyplot as plt\n",
        "\n",
        "mu = 0\n",
        "sigma = 1\n",
        "\n",
        "data = np.random.normal(mu, sigma, 1000)\n",
        "\n",
        "generated_mean = np.mean(data)\n",
        "generated_variance = np.var(data)\n",
        "\n",
        "plt.figure(figsize=(8, 6))\n",
        "plt.hist(data, bins=30, edgecolor='black', alpha=0.7)\n",
        "plt.title(\"Histogram of Generated Data (Normal Distribution)\")\n",
        "plt.xlabel(\"Value\")\n",
        "plt.ylabel(\"Frequency\")\n",
        "plt.grid(True)\n",
        "plt.show()\n",
        "\n",
        "print(f\"Generated Mean: {generated_mean}\")\n",
        "print(f\"Generated Variance: {generated_variance}\")"
      ]
    },
    {
      "cell_type": "markdown",
      "metadata": {
        "id": "guNfv2WSWy0T"
      },
      "source": [
        "*Exercise 9:* Combine your `generate_function`, `where`, and `in_range` functions above to create an integrate function. Use your integrate function to show that approximately 68% of Normal distribution is within one variance."
      ]
    },
    {
      "cell_type": "code",
      "execution_count": 35,
      "metadata": {
        "colab": {
          "base_uri": "https://localhost:8080/"
        },
        "id": "hdrbylFYWy0T",
        "outputId": "a21919aa-36e5-41fc-b9e6-dbd799fb1283"
      },
      "outputs": [
        {
          "output_type": "stream",
          "name": "stdout",
          "text": [
            "Estimated proportion within one standard deviation: 0.6849\n"
          ]
        }
      ],
      "source": [
        "import numpy as np\n",
        "import matplotlib.pyplot as plt\n",
        "\n",
        "def in_range(samples, lower, upper):\n",
        "    return np.sum((samples >= lower) & (samples <= upper))\n",
        "\n",
        "def generate_function(func, x_min, x_max, N):\n",
        "    samples = []\n",
        "    x_values = np.linspace(x_min, x_max, 1000)\n",
        "    y_values = func(x_values)\n",
        "    max_func_value = np.max(y_values)\n",
        "\n",
        "    while len(samples) < N:\n",
        "        test_x = np.random.uniform(x_min, x_max)\n",
        "\n",
        "        p = np.random.uniform(0, max_func_value)\n",
        "\n",
        "        if p <= func(test_x):\n",
        "            samples.append(test_x)\n",
        "\n",
        "    return np.array(samples)\n",
        "\n",
        "def integrate(func, x_min, x_max, N, lower_bound, upper_bound):\n",
        "    generated_samples = generate_function(func, x_min, x_max, N)\n",
        "\n",
        "    count_in_range = in_range(generated_samples, lower_bound, upper_bound)\n",
        "\n",
        "    proportion_in_range = count_in_range / N\n",
        "    return proportion_in_range\n",
        "\n",
        "\n",
        "def test_func(x):\n",
        "    return np.exp(-0.5 * (x**2)) / np.sqrt(2 * np.pi)\n",
        "\n",
        "mu = 0\n",
        "sigma = 1\n",
        "x_min = -5\n",
        "x_max = 5\n",
        "N = 10000\n",
        "\n",
        "lower_bound = mu - sigma\n",
        "upper_bound = mu + sigma\n",
        "\n",
        "\n",
        "estimated_proportion = integrate(test_func, x_min, x_max, N, lower_bound, upper_bound)\n",
        "\n",
        "print(f\"Estimated proportion within one standard deviation: {estimated_proportion}\")"
      ]
    }
  ],
  "metadata": {
    "kernelspec": {
      "display_name": "Python 3 (ipykernel)",
      "language": "python",
      "name": "python3"
    },
    "language_info": {
      "codemirror_mode": {
        "name": "ipython",
        "version": 3
      },
      "file_extension": ".py",
      "mimetype": "text/x-python",
      "name": "python",
      "nbconvert_exporter": "python",
      "pygments_lexer": "ipython3",
      "version": "3.9.6"
    },
    "colab": {
      "provenance": []
    }
  },
  "nbformat": 4,
  "nbformat_minor": 0
}