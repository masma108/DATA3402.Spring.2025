{
  "cells": [
    {
      "cell_type": "markdown",
      "metadata": {
        "id": "SqyTYNjUvE3g"
      },
      "source": [
        "# Lab 5\n"
      ]
    },
    {
      "cell_type": "markdown",
      "metadata": {
        "id": "tW5pazOkvE3j"
      },
      "source": [
        "Matrix Representation: In this lab you will be creating a simple linear algebra system. In memory, we will represent matrices as nested python lists as we have done in lecture. In the exercises below, you are required to explicitly test every feature you implement, demonstrating it works.\n",
        "\n",
        "1. Create a `matrix` class with the following properties:\n",
        "    * It can be initialized in 2 ways:\n",
        "        1. with arguments `n` and `m`, the size of the matrix. A newly instanciated matrix will contain all zeros.\n",
        "        2. with a list of lists of values. Note that since we are using lists of lists to implement matrices, it is possible that not all rows have the same number of columns. Test explicitly that the matrix is properly specified.\n",
        "    * Matrix instances `M` can be indexed with `M[i][j]` and `M[i,j]`.\n",
        "    * Matrix assignment works in 2 ways:\n",
        "        1. If `M_1` and `M_2` are `matrix` instances `M_1=M_2` sets the values of `M_1` to those of `M_2`, if they are the same size. Error otherwise.\n",
        "        2. In example above `M_2` can be a list of lists of correct size.\n"
      ]
    },
    {
      "cell_type": "markdown",
      "metadata": {
        "id": "qRGX3PcIvE3j"
      },
      "source": [
        "2. Add the following methods:\n",
        "    * `shape()`: returns a tuple `(n,m)` of the shape of the matrix.\n",
        "    * `transpose()`: returns a new matrix instance which is the transpose of the matrix.\n",
        "    * `row(n)` and `column(n)`: that return the nth row or column of the matrix M as a new appropriately shaped matrix object.\n",
        "    * `to_list()`: which returns the matrix as a list of lists.\n",
        "    *  `block(n_0,n_1,m_0,m_1)` that returns a smaller matrix located at the n_0 to n_1 columns and m_0 to m_1 rows.\n",
        "    * (Extra credit) Modify `__getitem__` implemented above to support slicing.\n",
        "        "
      ]
    },
    {
      "cell_type": "markdown",
      "metadata": {
        "id": "d1G_tLlGvE3k"
      },
      "source": [
        "3. Write functions that create special matrices (note these are standalone functions, not member functions of your `matrix` class):\n",
        "    * `constant(n,m,c)`: returns a `n` by `m` matrix filled with floats of value `c`.\n",
        "    * `zeros(n,m)` and `ones(n,m)`: return `n` by `m` matrices filled with floats of value `0` and `1`, respectively.\n",
        "    * `eye(n)`: returns the n by n identity matrix."
      ]
    },
    {
      "cell_type": "markdown",
      "metadata": {
        "id": "CxEF4XNnvE3k"
      },
      "source": [
        "4. Add the following member functions to your class. Make sure to appropriately test the dimensions of the matrices to make sure the operations are correct.\n",
        "    * `M.scalarmul(c)`: a matrix that is scalar product $cM$, where every element of $M$ is multiplied by $c$.\n",
        "    * `M.add(N)`: adds two matrices $M$ and $N$. Don’t forget to test that the sizes of the matrices are compatible for this and all other operations.\n",
        "    * `M.sub(N)`: subtracts two matrices $M$ and $N$.\n",
        "    * `M.mat_mult(N)`: returns a matrix that is the matrix product of two matrices $M$ and $N$.\n",
        "    * `M.element_mult(N)`: returns a matrix that is the element-wise product of two matrices $M$ and $N$.\n",
        "    * `M.equals(N)`: returns true/false if $M==N$."
      ]
    },
    {
      "cell_type": "markdown",
      "metadata": {
        "id": "6QSZlHbxvE3k"
      },
      "source": [
        "5. Overload python operators to appropriately use your functions in 4 and allow expressions like:\n",
        "    * 2*M\n",
        "    * M*2\n",
        "    * M+N\n",
        "    * M-N\n",
        "    * M*N\n",
        "    * M==N\n",
        "    * M=N\n"
      ]
    },
    {
      "cell_type": "markdown",
      "metadata": {
        "id": "jor8s6HlvE3k"
      },
      "source": [
        "6. Demonstrate the basic properties of matrices with your matrix class by creating two 2 by 2 example matrices using your Matrix class and illustrating the following:\n",
        "\n",
        "$$\n",
        "(AB)C=A(BC)\n",
        "$$\n",
        "$$\n",
        "A(B+C)=AB+AC\n",
        "$$\n",
        "$$\n",
        "AB\\neq BA\n",
        "$$\n",
        "$$\n",
        "AI=A\n",
        "$$"
      ]
    },
    {
      "cell_type": "code",
      "source": [
        "class Matrix:\n",
        "    def __init__(self, *args):\n",
        "        if len(args) == 2:\n",
        "            self.rows, self.cols = args\n",
        "            self.matrix = [[0.0 for _ in range(self.cols)] for _ in range(self.rows)]\n",
        "        elif len(args) == 1 and isinstance(args[0], list):\n",
        "            self.matrix = args[0]\n",
        "            self.rows = len(self.matrix)\n",
        "            self.cols = len(self.matrix[0]) if self.rows > 0 else 0\n",
        "            for row in self.matrix:\n",
        "                if len(row) != self.cols:\n",
        "                    raise ValueError(\"All rows must have the same number of columns.\")\n",
        "        else:\n",
        "            raise ValueError(\"Invalid constructor parameters.\")\n",
        "\n",
        "    def get_shape(self):\n",
        "        return (self.rows, self.cols)\n",
        "\n",
        "    def get_transpose(self):\n",
        "        return Matrix([[self.matrix[j][i] for j in range(self.rows)] for i in range(self.cols)])\n",
        "\n",
        "    def get_row(self, n):\n",
        "        return Matrix([self.matrix[n]])\n",
        "\n",
        "    def get_column(self, n):\n",
        "        return Matrix([[self.matrix[i][n]] for i in range(self.rows)])\n",
        "\n",
        "    def to_list(self):\n",
        "        return self.matrix\n",
        "\n",
        "    def get_block(self, row_start, row_end, col_start, col_end):\n",
        "        return Matrix([row[col_start:col_end] for row in self.matrix[row_start:row_end]])\n",
        "\n",
        "    def scalar_multiply(self, c):\n",
        "        return Matrix([[c * self.matrix[i][j] for j in range(self.cols)] for i in range(self.rows)])\n",
        "\n",
        "    def add_matrix(self, N):\n",
        "        if self.get_shape() != N.get_shape():\n",
        "            raise ValueError(\"Matrices must be the same size to add.\")\n",
        "        return Matrix([[self.matrix[i][j] + N.matrix[i][j] for j in range(self.cols)] for i in range(self.rows)])\n",
        "\n",
        "    def subtract_matrix(self, N):\n",
        "        if self.get_shape() != N.get_shape():\n",
        "            raise ValueError(\"Matrices must be the same size to subtract.\")\n",
        "        return Matrix([[self.matrix[i][j] - N.matrix[i][j] for j in range(self.cols)] for i in range(self.rows)])\n",
        "\n",
        "    def multiply_matrix(self, N):\n",
        "        if self.cols != N.rows:\n",
        "            raise ValueError(\"Matrices dimensions must match for multiplication.\")\n",
        "        return Matrix([[sum(self.matrix[i][k] * N.matrix[k][j] for k in range(self.cols)) for j in range(N.cols)] for i in range(self.rows)])\n",
        "\n",
        "    def element_wise_multiply(self, N):\n",
        "        if self.get_shape() != N.get_shape():\n",
        "            raise ValueError(\"Matrices must be the same size for element-wise multiplication.\")\n",
        "        return Matrix([[self.matrix[i][j] * N.matrix[i][j] for j in range(self.cols)] for i in range(self.rows)])\n",
        "\n",
        "    def is_equal(self, N):\n",
        "        return self.matrix == N.matrix\n",
        "\n",
        "    def __getitem__(self, index):\n",
        "        if isinstance(index, tuple):\n",
        "            i, j = index\n",
        "            return self.matrix[i][j]\n",
        "        elif isinstance(index, slice):\n",
        "            return Matrix([row[index] for row in self.matrix])\n",
        "        elif isinstance(index, int):\n",
        "            return Matrix([self.matrix[index]])\n",
        "        else:\n",
        "            raise ValueError(\"Invalid slicing parameters\")\n",
        "\n",
        "    def __setitem__(self, index, value):\n",
        "        i, j = index\n",
        "        self.matrix[i][j] = value\n",
        "\n",
        "    def __eq__(self, other):\n",
        "        return self.is_equal(other)\n",
        "\n",
        "    def __add__(self, other):\n",
        "        return self.add_matrix(other)\n",
        "\n",
        "    def __sub__(self, other):\n",
        "        return self.subtract_matrix(other)\n",
        "\n",
        "    def __mul__(self, other):\n",
        "        if isinstance(other, Matrix):\n",
        "            return self.multiply_matrix(other)\n",
        "        elif isinstance(other, (int, float)):\n",
        "            return self.scalar_multiply(other)\n",
        "        else:\n",
        "            raise ValueError(\"Unsupported multiplication type.\")\n",
        "\n",
        "    def __rmul__(self, other):\n",
        "        return self.__mul__(other)\n",
        "\n",
        "    def __str__(self):\n",
        "        return \"\\n\".join([\"\\t\".join(map(str, row)) for row in self.matrix])\n",
        "\n",
        "\n",
        "# Helper functions\n",
        "def create_constant_matrix(n, m, c):\n",
        "    return Matrix([[c] * m for _ in range(n)])\n",
        "\n",
        "def create_zero_matrix(n, m):\n",
        "    return Matrix([[0.0] * m for _ in range(n)])\n",
        "\n",
        "def create_one_matrix(n, m):\n",
        "    return Matrix([[1.0] * m for _ in range(n)])\n",
        "\n",
        "def create_identity_matrix(n):\n",
        "    return Matrix([[1 if i == j else 0 for j in range(n)] for i in range(n)])\n"
      ],
      "metadata": {
        "id": "bVTMCxwgvojw"
      },
      "execution_count": 1,
      "outputs": []
    },
    {
      "cell_type": "code",
      "execution_count": 2,
      "metadata": {
        "colab": {
          "base_uri": "https://localhost:8080/"
        },
        "id": "qgwWyyuGvE3l",
        "outputId": "cff0d4c0-b478-4d7e-ae2e-145bec27dbe9"
      },
      "outputs": [
        {
          "output_type": "stream",
          "name": "stdout",
          "text": [
            "Matrix A:\n",
            "1\t2\n",
            "3\t4\n",
            "Matrix B:\n",
            "5\t6\n",
            "7\t8\n",
            "Matrix C:\n",
            "9\t10\n",
            "11\t12\n",
            "Matrix I (Identity):\n",
            "1\t0\n",
            "0\t1\n",
            "Matrix operations worked successfully!\n"
          ]
        }
      ],
      "source": [
        "# Test the Matrix class\n",
        "\n",
        "A = Matrix([[1, 2], [3, 4]])\n",
        "B = Matrix([[5, 6], [7, 8]])\n",
        "C = Matrix([[9, 10], [11, 12]])\n",
        "\n",
        "# Test (AB)C = A(BC)\n",
        "AB = A * B\n",
        "BC = B * C\n",
        "assert (AB * C).is_equal(A * BC), \"(AB)C != A(BC)\"\n",
        "\n",
        "# Test 2 A(B + C) = AB + AC\n",
        "B_plus_C = B + C\n",
        "assert A * B_plus_C == A * B + A * C, \"A(B+C) != AB + AC\"\n",
        "\n",
        "# Test 3 A * B != B * A\n",
        "assert A * B != B * A, \"AB == BA\"\n",
        "\n",
        "# Test 4 A * I = A\n",
        "I = create_identity_matrix(2)\n",
        "assert A * I == A, \"A * I != A\"\n",
        "\n",
        "\n",
        "# Test block extraction (submatrix)\n",
        "block = A.get_block(0, 2, 0, 1)\n",
        "assert block.to_list() == [[1], [3]], \"Block extraction failed.\"\n",
        "\n",
        "# Test row and column extraction\n",
        "row_0 = A.get_row(0)\n",
        "assert row_0.to_list() == [[1, 2]], \"Row extraction failed.\"\n",
        "\n",
        "col_1 = A.get_column(1)\n",
        "assert col_1.to_list() == [[2], [4]], \"Column extraction failed.\"\n",
        "\n",
        "# Test matrix creation helper functions\n",
        "zeros_matrix = create_zero_matrix(3, 3)\n",
        "assert zeros_matrix.to_list() == [[0.0, 0.0, 0.0], [0.0, 0.0, 0.0], [0.0, 0.0, 0.0]], \"Zero matrix creation failed.\"\n",
        "\n",
        "ones_matrix = create_one_matrix(2, 2)\n",
        "assert ones_matrix.to_list() == [[1.0, 1.0], [1.0, 1.0]], \"Ones matrix creation failed.\"\n",
        "\n",
        "constant_matrix = create_constant_matrix(2, 3, 7)\n",
        "assert constant_matrix.to_list() == [[7, 7, 7], [7, 7, 7]], \"Constant matrix creation failed.\"\n",
        "\n",
        "# Test matrix equality\n",
        "matrix_1 = Matrix([[1, 2], [3, 4]])\n",
        "matrix_2 = Matrix([[1, 2], [3, 4]])\n",
        "assert matrix_1 == matrix_2, \"Matrix equality check failed.\"\n",
        "\n",
        "# Test scalar multiplication\n",
        "scaled_matrix = A * 2\n",
        "assert scaled_matrix.to_list() == [[2, 4], [6, 8]], \"Scalar multiplication failed.\"\n",
        "\n",
        "# Output matrices\n",
        "print(\"Matrix A:\")\n",
        "print(A)\n",
        "print(\"Matrix B:\")\n",
        "print(B)\n",
        "print(\"Matrix C:\")\n",
        "print(C)\n",
        "print(\"Matrix I (Identity):\")\n",
        "print(I)\n",
        "\n",
        "print(\"Matrix operations worked successfully!\")\n"
      ]
    },
    {
      "cell_type": "code",
      "source": [],
      "metadata": {
        "id": "TFsUSYkGFbQ-"
      },
      "execution_count": null,
      "outputs": []
    }
  ],
  "metadata": {
    "kernelspec": {
      "display_name": "Python 3 (ipykernel)",
      "language": "python",
      "name": "python3"
    },
    "language_info": {
      "codemirror_mode": {
        "name": "ipython",
        "version": 3
      },
      "file_extension": ".py",
      "mimetype": "text/x-python",
      "name": "python",
      "nbconvert_exporter": "python",
      "pygments_lexer": "ipython3",
      "version": "3.9.6"
    },
    "colab": {
      "provenance": []
    }
  },
  "nbformat": 4,
  "nbformat_minor": 0
}