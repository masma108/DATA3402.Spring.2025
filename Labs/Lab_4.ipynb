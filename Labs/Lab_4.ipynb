{
  "cells": [
    {
      "cell_type": "markdown",
      "metadata": {
        "id": "QFTn2atP6tWK"
      },
      "source": [
        "# Lab 4- Object Oriented Programming\n",
        "\n",
        "For all of the exercises below, make sure you provide tests of your solutions.\n"
      ]
    },
    {
      "cell_type": "markdown",
      "metadata": {
        "id": "ZQ1nmUZO6tWO"
      },
      "source": [
        "1. Write a \"counter\" class that can be incremented up to a specified maximum value, will print an error if an attempt is made to increment beyond that value, and allows reseting the counter."
      ]
    },
    {
      "cell_type": "code",
      "execution_count": 1,
      "metadata": {
        "id": "4mp8f3P56tWO"
      },
      "outputs": [],
      "source": [
        "class Counter:\n",
        "    def __init__(self, max_value):\n",
        "        self._value = 0\n",
        "        self._max_value = max_value\n",
        "\n",
        "    def increment(self):\n",
        "        if self._value < self._max_value:\n",
        "            self._value += 1\n",
        "        else:\n",
        "            print(\"Error: Cannot increment, counter at max value.\")\n",
        "\n",
        "    def reset(self):\n",
        "        self._value = 0\n",
        "\n",
        "    def get_value(self):\n",
        "        return self._value"
      ]
    },
    {
      "cell_type": "code",
      "execution_count": 2,
      "metadata": {
        "id": "B6DWqJXM8Eb6"
      },
      "outputs": [],
      "source": [
        "counter = Counter(3)"
      ]
    },
    {
      "cell_type": "code",
      "execution_count": 3,
      "metadata": {
        "id": "0kO0ap3K8Nr1"
      },
      "outputs": [],
      "source": [
        "counter.increment()"
      ]
    },
    {
      "cell_type": "code",
      "execution_count": 4,
      "metadata": {
        "colab": {
          "base_uri": "https://localhost:8080/"
        },
        "id": "_uke0l5o8Rzo",
        "outputId": "71f23aab-dc4a-4be3-a165-56682a6b5dad"
      },
      "outputs": [
        {
          "name": "stdout",
          "output_type": "stream",
          "text": [
            "1\n"
          ]
        }
      ],
      "source": [
        "print(counter.get_value())"
      ]
    },
    {
      "cell_type": "code",
      "execution_count": 5,
      "metadata": {
        "id": "7MOW2A3-8Xsd"
      },
      "outputs": [],
      "source": [
        "counter.increment()"
      ]
    },
    {
      "cell_type": "code",
      "execution_count": 6,
      "metadata": {
        "colab": {
          "base_uri": "https://localhost:8080/"
        },
        "id": "d5TMa5ux8bCP",
        "outputId": "1ae3f498-c73c-402f-a547-aa9d6b6898ad"
      },
      "outputs": [
        {
          "name": "stdout",
          "output_type": "stream",
          "text": [
            "2\n"
          ]
        }
      ],
      "source": [
        "print(counter.get_value())"
      ]
    },
    {
      "cell_type": "code",
      "execution_count": 7,
      "metadata": {
        "colab": {
          "base_uri": "https://localhost:8080/"
        },
        "id": "9L8FNOjY8dFN",
        "outputId": "6b2cea2a-b721-4b7c-a53f-cdac4a2c5f16"
      },
      "outputs": [
        {
          "name": "stdout",
          "output_type": "stream",
          "text": [
            "2\n"
          ]
        }
      ],
      "source": [
        "print(counter.get_value())"
      ]
    },
    {
      "cell_type": "code",
      "execution_count": 8,
      "metadata": {
        "id": "BgK586ML8fW1"
      },
      "outputs": [],
      "source": [
        "counter.increment()"
      ]
    },
    {
      "cell_type": "code",
      "execution_count": 9,
      "metadata": {
        "colab": {
          "base_uri": "https://localhost:8080/"
        },
        "id": "av6qkSqE8grt",
        "outputId": "184b10d6-533a-4199-9b12-bbd84533a0b9"
      },
      "outputs": [
        {
          "name": "stdout",
          "output_type": "stream",
          "text": [
            "3\n"
          ]
        }
      ],
      "source": [
        "print(counter.get_value())"
      ]
    },
    {
      "cell_type": "code",
      "execution_count": 10,
      "metadata": {
        "colab": {
          "base_uri": "https://localhost:8080/"
        },
        "id": "5SPJHnQE8kHg",
        "outputId": "1bf767c9-09dd-41f8-f0fc-5277b3196a6e"
      },
      "outputs": [
        {
          "name": "stdout",
          "output_type": "stream",
          "text": [
            "Error: Cannot increment, counter at max value.\n"
          ]
        }
      ],
      "source": [
        "counter.increment()"
      ]
    },
    {
      "cell_type": "markdown",
      "metadata": {
        "id": "nD7VcIky6tWP"
      },
      "source": [
        "2. Copy and paste your solution to question 1 and modify it so that all the data held by the counter is private. Implement functions to check the value of the counter, check the maximum value, and check if the counter is at the maximum."
      ]
    },
    {
      "cell_type": "code",
      "execution_count": 11,
      "metadata": {
        "id": "N6wAvqT76tWP"
      },
      "outputs": [],
      "source": [
        "class Counter:\n",
        "    def __init__(self, max_value):\n",
        "        self.__value = 0\n",
        "        self.__max_value = max_value\n",
        "\n",
        "    def increment(self):\n",
        "        if self.__value < self.__max_value:\n",
        "            self.__value += 1\n",
        "        else:\n",
        "            print(\"Error: Cannot increment, counter at max value.\")\n",
        "\n",
        "    def reset(self):\n",
        "        self.__value = 0\n",
        "\n",
        "    def get_value(self):\n",
        "        return self.__value\n",
        "\n",
        "    def get_max_value(self):\n",
        "        return self.__max_value\n",
        "\n",
        "    def at_max(self):\n",
        "        return self.__value == self.__max_value"
      ]
    },
    {
      "cell_type": "code",
      "execution_count": 12,
      "metadata": {
        "id": "5d_KzE7y8zO5"
      },
      "outputs": [],
      "source": [
        "counter = Counter(5)"
      ]
    },
    {
      "cell_type": "code",
      "execution_count": 13,
      "metadata": {
        "id": "k3qkFwiW8zHm"
      },
      "outputs": [],
      "source": [
        "counter.increment()"
      ]
    },
    {
      "cell_type": "code",
      "execution_count": 14,
      "metadata": {
        "colab": {
          "base_uri": "https://localhost:8080/"
        },
        "id": "CzmiwsqZ8zEe",
        "outputId": "69fa48a5-efde-4cad-b070-c1989e54f80c"
      },
      "outputs": [
        {
          "name": "stdout",
          "output_type": "stream",
          "text": [
            "1\n"
          ]
        }
      ],
      "source": [
        "print(counter.get_value())"
      ]
    },
    {
      "cell_type": "code",
      "execution_count": 15,
      "metadata": {
        "colab": {
          "base_uri": "https://localhost:8080/"
        },
        "id": "_5Z0vBqQ8y9c",
        "outputId": "dcb926b2-7b74-4438-b80e-44aaa6c5eacf"
      },
      "outputs": [
        {
          "name": "stdout",
          "output_type": "stream",
          "text": [
            "5\n"
          ]
        }
      ],
      "source": [
        "print(counter.get_max_value())"
      ]
    },
    {
      "cell_type": "code",
      "execution_count": 16,
      "metadata": {
        "colab": {
          "base_uri": "https://localhost:8080/"
        },
        "id": "zYkY7wYo8yu4",
        "outputId": "ca5e19a7-f9b3-4bda-9a2d-f3687c277173"
      },
      "outputs": [
        {
          "name": "stdout",
          "output_type": "stream",
          "text": [
            "False\n"
          ]
        }
      ],
      "source": [
        "print(counter.at_max())"
      ]
    },
    {
      "cell_type": "code",
      "execution_count": 17,
      "metadata": {
        "id": "GyGS4vbz89mb"
      },
      "outputs": [],
      "source": [
        "counter.increment()"
      ]
    },
    {
      "cell_type": "code",
      "execution_count": 18,
      "metadata": {
        "id": "OryHXqBw9Czg"
      },
      "outputs": [],
      "source": [
        "counter.increment()"
      ]
    },
    {
      "cell_type": "code",
      "execution_count": 19,
      "metadata": {
        "id": "kAzzXvbG9DaU"
      },
      "outputs": [],
      "source": [
        "counter.increment()"
      ]
    },
    {
      "cell_type": "code",
      "execution_count": 20,
      "metadata": {
        "id": "K_oam6lY9ETW"
      },
      "outputs": [],
      "source": [
        "counter.increment()"
      ]
    },
    {
      "cell_type": "code",
      "execution_count": 21,
      "metadata": {
        "colab": {
          "base_uri": "https://localhost:8080/"
        },
        "id": "ynsr1bA49FSp",
        "outputId": "f24d2205-9cb6-4eba-c150-2b6fe9fb546f"
      },
      "outputs": [
        {
          "name": "stdout",
          "output_type": "stream",
          "text": [
            "True\n"
          ]
        }
      ],
      "source": [
        "print(counter.at_max())"
      ]
    },
    {
      "cell_type": "markdown",
      "metadata": {
        "id": "11Og3T_Q6tWP"
      },
      "source": [
        "3. Implement a class to represent a rectangle, holding the length, width, and $x$ and $y$ coordinates of a corner of the object. Implement functions that compute the area and perimeter of the rectangle. Make all data members private and privide accessors to retrieve values of data members."
      ]
    },
    {
      "cell_type": "code",
      "execution_count": 22,
      "metadata": {
        "id": "327SfZKL6tWP"
      },
      "outputs": [],
      "source": [
        "class Rectangle:\n",
        "    def __init__(self, length, width, x, y):\n",
        "        self.__length = length\n",
        "        self.__width = width\n",
        "        self.__x = x\n",
        "        self.__y = y\n",
        "\n",
        "    def area(self):\n",
        "        return self.__length * self.__width\n",
        "\n",
        "    def perimeter(self):\n",
        "        return 2 * (self.__length + self.__width)\n",
        "\n",
        "    def get_length(self):\n",
        "        return self.__length\n",
        "\n",
        "    def get_width(self):\n",
        "        return self.__width\n",
        "\n",
        "    def get_coordinates(self):\n",
        "        return (self.__x, self.__y)"
      ]
    },
    {
      "cell_type": "code",
      "execution_count": 23,
      "metadata": {
        "id": "ZPjVELdG9QzU"
      },
      "outputs": [],
      "source": [
        "rect = Rectangle(5, 3, 0, 0)\n"
      ]
    },
    {
      "cell_type": "code",
      "execution_count": 24,
      "metadata": {
        "colab": {
          "base_uri": "https://localhost:8080/"
        },
        "id": "kF-qeg5x9ZgY",
        "outputId": "1da6c8cf-eee2-45ed-e552-b738afb83a2b"
      },
      "outputs": [
        {
          "name": "stdout",
          "output_type": "stream",
          "text": [
            "15\n"
          ]
        }
      ],
      "source": [
        "print(rect.area())"
      ]
    },
    {
      "cell_type": "code",
      "execution_count": 25,
      "metadata": {
        "colab": {
          "base_uri": "https://localhost:8080/"
        },
        "id": "dxT2bDK69bVy",
        "outputId": "0c40652b-f406-464a-be7e-acb38a4e6af7"
      },
      "outputs": [
        {
          "name": "stdout",
          "output_type": "stream",
          "text": [
            "16\n"
          ]
        }
      ],
      "source": [
        "print(rect.perimeter())"
      ]
    },
    {
      "cell_type": "code",
      "execution_count": 26,
      "metadata": {
        "colab": {
          "base_uri": "https://localhost:8080/"
        },
        "id": "MbfYjDRW9cqM",
        "outputId": "19ccc281-811a-4dcf-c0be-e3f68a53cd6d"
      },
      "outputs": [
        {
          "name": "stdout",
          "output_type": "stream",
          "text": [
            "5\n"
          ]
        }
      ],
      "source": [
        "print(rect.get_length())"
      ]
    },
    {
      "cell_type": "code",
      "execution_count": 27,
      "metadata": {
        "colab": {
          "base_uri": "https://localhost:8080/"
        },
        "id": "auHR2LVJ9dzW",
        "outputId": "6b375818-3940-4553-d75c-cb2ce3d1240c"
      },
      "outputs": [
        {
          "name": "stdout",
          "output_type": "stream",
          "text": [
            "(0, 0)\n"
          ]
        }
      ],
      "source": [
        "print(rect.get_coordinates())"
      ]
    },
    {
      "cell_type": "markdown",
      "metadata": {
        "id": "ywih5PoU6tWP"
      },
      "source": [
        "4. Implement a class to represent a circle, holding the radius and $x$ and $y$ coordinates of center of the object. Implement functions that compute the area and perimeter of the rectangle. Make all data members private and privide accessors to retrieve values of data members."
      ]
    },
    {
      "cell_type": "code",
      "execution_count": 29,
      "metadata": {
        "id": "C-ETr4df6tWP"
      },
      "outputs": [],
      "source": [
        "import math\n",
        "\n",
        "class Circle:\n",
        "    def __init__(self, radius, x, y):\n",
        "        self.__radius = radius\n",
        "        self.__x = x\n",
        "        self.__y = y\n",
        "\n",
        "    def area(self):\n",
        "        return math.pi * self.__radius ** 2\n",
        "\n",
        "    def perimeter(self):\n",
        "        return 2 * math.pi * self.__radius\n",
        "\n",
        "    def get_radius(self):\n",
        "        return self.__radius\n",
        "\n",
        "    def get_coordinates(self):\n",
        "        return (self.__x, self.__y)"
      ]
    },
    {
      "cell_type": "code",
      "execution_count": 30,
      "metadata": {
        "id": "Ehv0YmrY9kv5"
      },
      "outputs": [],
      "source": [
        "circle = Circle(3, 1, 1)"
      ]
    },
    {
      "cell_type": "code",
      "execution_count": 31,
      "metadata": {
        "colab": {
          "base_uri": "https://localhost:8080/"
        },
        "id": "lWYXB4_D9sM-",
        "outputId": "2da657d8-607c-4d46-c352-0ff106ed8d9c"
      },
      "outputs": [
        {
          "name": "stdout",
          "output_type": "stream",
          "text": [
            "28.274333882308138\n"
          ]
        }
      ],
      "source": [
        "print(circle.area())"
      ]
    },
    {
      "cell_type": "code",
      "execution_count": 32,
      "metadata": {
        "colab": {
          "base_uri": "https://localhost:8080/"
        },
        "id": "8cFIUYwc9wk6",
        "outputId": "994064cc-23bc-4452-a725-454874266bf2"
      },
      "outputs": [
        {
          "name": "stdout",
          "output_type": "stream",
          "text": [
            "18.84955592153876\n"
          ]
        }
      ],
      "source": [
        "print(circle.perimeter())"
      ]
    },
    {
      "cell_type": "code",
      "execution_count": 33,
      "metadata": {
        "colab": {
          "base_uri": "https://localhost:8080/"
        },
        "id": "LCHa-GtH9x6o",
        "outputId": "3b6703cd-48b5-42c9-8c4e-9f9935d0aacf"
      },
      "outputs": [
        {
          "name": "stdout",
          "output_type": "stream",
          "text": [
            "3\n"
          ]
        }
      ],
      "source": [
        "print(circle.get_radius())"
      ]
    },
    {
      "cell_type": "code",
      "execution_count": 34,
      "metadata": {
        "colab": {
          "base_uri": "https://localhost:8080/"
        },
        "id": "k_SXconb9zZI",
        "outputId": "7fa6e7ba-4c94-40b0-d27f-8253e0855b93"
      },
      "outputs": [
        {
          "name": "stdout",
          "output_type": "stream",
          "text": [
            "(1, 1)\n"
          ]
        }
      ],
      "source": [
        "print(circle.get_coordinates())"
      ]
    },
    {
      "cell_type": "markdown",
      "metadata": {
        "id": "hKRxXsiH6tWQ"
      },
      "source": [
        "5. Implement a common base class for the classes implemented in 3 and 4 above which implements all common methods as not implemented functions (virtual). Re-implement your regtangle and circule classes to inherit from the base class and overload the functions accordingly."
      ]
    },
    {
      "cell_type": "code",
      "execution_count": 35,
      "metadata": {
        "id": "MkRG8X_u6tWQ"
      },
      "outputs": [],
      "source": [
        "from abc import ABC, abstractmethod\n",
        "\n",
        "class Shape(ABC):\n",
        "    @abstractmethod\n",
        "    def area(self):\n",
        "        pass\n",
        "\n",
        "    @abstractmethod\n",
        "    def perimeter(self):\n",
        "        pass\n",
        "\n",
        "    @abstractmethod\n",
        "    def get_coordinates(self):\n",
        "        pass\n",
        "\n",
        "class Rectangle(Shape):\n",
        "    def __init__(self, length, width, x, y):\n",
        "        self.__length = length\n",
        "        self.__width = width\n",
        "        self.__x = x\n",
        "        self.__y = y\n",
        "\n",
        "    def area(self):\n",
        "        return self.__length * self.__width\n",
        "\n",
        "    def perimeter(self):\n",
        "        return 2 * (self.__length + self.__width)\n",
        "\n",
        "    def get_coordinates(self):\n",
        "        return (self.__x, self.__y)\n",
        "\n",
        "class Circle(Shape):\n",
        "    def __init__(self, radius, x, y):\n",
        "        self.__radius = radius\n",
        "        self.__x = x\n",
        "        self.__y = y\n",
        "\n",
        "    def area(self):\n",
        "        return math.pi * self.__radius ** 2\n",
        "\n",
        "    def perimeter(self):\n",
        "        return 2 * math.pi * self.__radius\n",
        "\n",
        "    def get_coordinates(self):\n",
        "        return (self.__x, self.__y)"
      ]
    },
    {
      "cell_type": "code",
      "execution_count": 36,
      "metadata": {
        "id": "5TmpmSiW-fOV"
      },
      "outputs": [],
      "source": [
        "shapes = [Rectangle(5, 3, 0, 0), Circle(3, 1, 1)]"
      ]
    },
    {
      "cell_type": "code",
      "execution_count": 37,
      "metadata": {
        "colab": {
          "base_uri": "https://localhost:8080/"
        },
        "id": "7ero9IQ--ixI",
        "outputId": "8d95b406-bd81-4312-a774-663f46a3a49e"
      },
      "outputs": [
        {
          "name": "stdout",
          "output_type": "stream",
          "text": [
            "Area: 15, Perimeter: 16\n",
            "Area: 28.274333882308138, Perimeter: 18.84955592153876\n"
          ]
        }
      ],
      "source": [
        "for shape in shapes:\n",
        "    print(f\"Area: {shape.area()}, Perimeter: {shape.perimeter()}\")"
      ]
    },
    {
      "cell_type": "markdown",
      "metadata": {
        "id": "cSxU7n-P6tWQ"
      },
      "source": [
        "6. Implement a triangle class analogous to the rectangle and circle in question 5."
      ]
    },
    {
      "cell_type": "code",
      "execution_count": 38,
      "metadata": {
        "id": "tna9bx256tWQ"
      },
      "outputs": [],
      "source": [
        "class Triangle(Shape):\n",
        "    def __init__(self, x1, y1, x2, y2, x3, y3):\n",
        "        self.__x1, self.__y1 = x1, y1\n",
        "        self.__x2, self.__y2 = x2, y2\n",
        "        self.__x3, self.__y3 = x3, y3\n",
        "\n",
        "    def area(self):\n",
        "        return abs(self.__x1 * (self.__y2 - self.__y3) + self.__x2 * (self.__y3 - self.__y1) + self.__x3 * (self.__y1 - self.__y2)) / 2\n",
        "\n",
        "    def perimeter(self):\n",
        "        side1 = math.sqrt((self.__x2 - self.__x1) ** 2 + (self.__y2 - self.__y1) ** 2)\n",
        "        side2 = math.sqrt((self.__x3 - self.__x2) ** 2 + (self.__y3 - self.__y2) ** 2)\n",
        "        side3 = math.sqrt((self.__x1 - self.__x3) ** 2 + (self.__y1 - self.__y3) ** 2)\n",
        "        return side1 + side2 + side3\n",
        "\n",
        "    def get_coordinates(self):\n",
        "        return [(self.__x1, self.__y1), (self.__x2, self.__y2), (self.__x3, self.__y3)]"
      ]
    },
    {
      "cell_type": "code",
      "execution_count": 39,
      "metadata": {
        "id": "Ger2KZFU-pNG"
      },
      "outputs": [],
      "source": [
        "triangle = Triangle(0, 0, 5, 0, 0, 5)"
      ]
    },
    {
      "cell_type": "code",
      "execution_count": 40,
      "metadata": {
        "colab": {
          "base_uri": "https://localhost:8080/"
        },
        "id": "C4Ur1xYB-rjY",
        "outputId": "653efc9d-4097-499c-f010-d6eb8c8ffbf7"
      },
      "outputs": [
        {
          "name": "stdout",
          "output_type": "stream",
          "text": [
            "12.5\n"
          ]
        }
      ],
      "source": [
        "print(triangle.area())"
      ]
    },
    {
      "cell_type": "code",
      "execution_count": 41,
      "metadata": {
        "colab": {
          "base_uri": "https://localhost:8080/"
        },
        "id": "a0Pd18xA-twg",
        "outputId": "8002a7b6-4d45-4e77-c8bb-b7726b7c31cb"
      },
      "outputs": [
        {
          "name": "stdout",
          "output_type": "stream",
          "text": [
            "17.071067811865476\n"
          ]
        }
      ],
      "source": [
        "print(triangle.perimeter())"
      ]
    },
    {
      "cell_type": "markdown",
      "metadata": {
        "id": "tPsOwOkP6tWQ"
      },
      "source": [
        "7. Add a function to the object classes, including the base, that returns a list of up to 16 pairs of  $x$ and $y$ points on the parameter of the object."
      ]
    },
    {
      "cell_type": "code",
      "execution_count": 56,
      "metadata": {
        "id": "al2dsMnX6tWQ"
      },
      "outputs": [],
      "source": [
        "import math\n",
        "from abc import ABC, abstractmethod\n",
        "\n",
        "class Shape(ABC):\n",
        "    @abstractmethod\n",
        "    def area(self):\n",
        "        pass\n",
        "\n",
        "    @abstractmethod\n",
        "    def perimeter(self):\n",
        "        pass\n",
        "\n",
        "    @abstractmethod\n",
        "    def get_coordinates(self):\n",
        "        pass\n",
        "\n",
        "class Rectangle(Shape):\n",
        "    def __init__(self, length, width, x, y):\n",
        "        self.__length = length\n",
        "        self.__width = width\n",
        "        self.__x = x\n",
        "        self.__y = y\n",
        "\n",
        "    def area(self):\n",
        "        return self.__length * self.__width\n",
        "\n",
        "    def perimeter(self):\n",
        "        return 2 * (self.__length + self.__width)\n",
        "\n",
        "    def get_coordinates(self):\n",
        "        return (self.__x, self.__y)\n",
        "\n",
        "class Circle(Shape):\n",
        "    def __init__(self, radius, x, y):\n",
        "        self.__radius = radius\n",
        "        self.__x = x\n",
        "        self.__y = y\n",
        "\n",
        "    def area(self):\n",
        "        return math.pi * self.__radius ** 2\n",
        "\n",
        "    def perimeter(self):\n",
        "        return 2 * math.pi * self.__radius\n",
        "\n",
        "    def get_coordinates(self):\n",
        "        return (self.__x, self.__y)\n"
      ]
    },
    {
      "cell_type": "code",
      "execution_count": 49,
      "metadata": {
        "id": "bszU5CS_-06g"
      },
      "outputs": [],
      "source": [
        "rect = Rectangle(5, 3, 0, 0)"
      ]
    },
    {
      "cell_type": "code",
      "execution_count": 51,
      "metadata": {
        "colab": {
          "base_uri": "https://localhost:8080/"
        },
        "id": "ZS60rKa3_NwQ",
        "outputId": "e356d820-ef6c-455e-ebad-5f0316ea92cf"
      },
      "outputs": [
        {
          "name": "stdout",
          "output_type": "stream",
          "text": [
            "Rectangle Area: 15, Perimeter: 16\n"
          ]
        }
      ],
      "source": [
        "print(f\"Rectangle Area: {rect.area()}, Perimeter: {rect.perimeter()}\")"
      ]
    },
    {
      "cell_type": "markdown",
      "metadata": {
        "id": "pqJ9L1y46tWQ"
      },
      "source": [
        "8. Add a function to the object classes, including the base, that tests if a given set of $x$ and $y$ coordinates are inside of the object. You'll have to think through how to determine if a set of coordinates are inside an object for each object type."
      ]
    },
    {
      "cell_type": "code",
      "execution_count": 62,
      "metadata": {
        "id": "eHh7KWNW6tWQ"
      },
      "outputs": [],
      "source": [
        "import math\n",
        "from abc import ABC, abstractmethod\n",
        "\n",
        "class Shape(ABC):\n",
        "    @abstractmethod\n",
        "    def area(self):\n",
        "        pass\n",
        "\n",
        "    @abstractmethod\n",
        "    def perimeter(self):\n",
        "        pass\n",
        "\n",
        "    @abstractmethod\n",
        "    def get_coordinates(self):\n",
        "        pass\n",
        "\n",
        "class Rectangle(Shape):\n",
        "    def __init__(self, length, width, x, y):\n",
        "        self.__length = length\n",
        "        self.__width = width\n",
        "        self.__x = x\n",
        "        self.__y = y\n",
        "\n",
        "    def area(self):\n",
        "        return self.__length * self.__width\n",
        "\n",
        "    def perimeter(self):\n",
        "        return 2 * (self.__length + self.__width)\n",
        "\n",
        "    def get_coordinates(self):\n",
        "        return (self.__x, self.__y)\n",
        "\n",
        "class Circle(Shape):\n",
        "    def __init__(self, radius, x, y):\n",
        "        self.__radius = radius\n",
        "        self.__x = x\n",
        "        self.__y = y\n",
        "\n",
        "    def area(self):\n",
        "        return math.pi * self.__radius ** 2\n",
        "\n",
        "    def perimeter(self):\n",
        "        return 2 * math.pi * self.__radius\n",
        "\n",
        "    def get_coordinates(self):\n",
        "        return (self.__x, self.__y)\n"
      ]
    },
    {
      "cell_type": "code",
      "execution_count": 63,
      "metadata": {
        "id": "xUwZXdbx_eLF"
      },
      "outputs": [],
      "source": [
        "rect = Rectangle(5, 3, 0, 0)"
      ]
    },
    {
      "cell_type": "code",
      "execution_count": 64,
      "metadata": {
        "id": "Mskdby0P_4pl"
      },
      "outputs": [],
      "source": [
        "circle = Circle(3, 1, 1)\n"
      ]
    },
    {
      "cell_type": "code",
      "execution_count": 65,
      "metadata": {
        "colab": {
          "base_uri": "https://localhost:8080/"
        },
        "id": "FpuTN623_9Yc",
        "outputId": "fc719ae6-6836-4cda-ca17-57511a1d4b97"
      },
      "outputs": [
        {
          "name": "stdout",
          "output_type": "stream",
          "text": [
            "Rectangle Area: 15, Perimeter: 16\n"
          ]
        }
      ],
      "source": [
        "\n",
        "print(f\"Rectangle Area: {rect.area()}, Perimeter: {rect.perimeter()}\")"
      ]
    },
    {
      "cell_type": "code",
      "execution_count": 66,
      "metadata": {
        "colab": {
          "base_uri": "https://localhost:8080/"
        },
        "id": "6kfWhD0L__mH",
        "outputId": "0b7bf8ca-1b45-4bb7-d36c-1ed14254f027"
      },
      "outputs": [
        {
          "name": "stdout",
          "output_type": "stream",
          "text": [
            "Circle Area: 28.274333882308138, Perimeter: 18.84955592153876\n"
          ]
        }
      ],
      "source": [
        "print(f\"Circle Area: {circle.area()}, Perimeter: {circle.perimeter()}\")"
      ]
    },
    {
      "cell_type": "markdown",
      "metadata": {
        "id": "-YMxQfxo6tWR"
      },
      "source": [
        "9. Add a function in the base class of the object classes that returns true/false testing that the object overlaps with another object."
      ]
    },
    {
      "cell_type": "code",
      "execution_count": 69,
      "metadata": {
        "id": "zDn6fvsy6tWR"
      },
      "outputs": [],
      "source": [
        "import math\n",
        "from abc import ABC, abstractmethod\n",
        "\n",
        "class Shape(ABC):\n",
        "    @abstractmethod\n",
        "    def area(self):\n",
        "        pass\n",
        "\n",
        "    @abstractmethod\n",
        "    def perimeter(self):\n",
        "        pass\n",
        "\n",
        "    @abstractmethod\n",
        "    def get_coordinates(self):\n",
        "        pass\n",
        "\n",
        "    @abstractmethod\n",
        "    def is_inside(self, x, y):\n",
        "        pass\n",
        "\n",
        "    @abstractmethod\n",
        "    def overlaps(self, other):\n",
        "        pass\n",
        "\n",
        "class Rectangle(Shape):\n",
        "    def __init__(self, length, width, x, y):\n",
        "        self.__length = length\n",
        "        self.__width = width\n",
        "        self.__x = x\n",
        "        self.__y = y\n",
        "\n",
        "    def area(self):\n",
        "        return self.__length * self.__width\n",
        "\n",
        "    def perimeter(self):\n",
        "        return 2 * (self.__length + self.__width)\n",
        "\n",
        "    def get_coordinates(self):\n",
        "        return (self.__x, self.__y)\n",
        "\n",
        "    def is_inside(self, x, y):\n",
        "        return self.__x <= x <= self.__x + self.__length and self.__y <= y <= self.__y + self.__width\n",
        "\n",
        "    def overlaps(self, other):\n",
        "        # Check if two rectangles overlap\n",
        "        if isinstance(other, Rectangle):\n",
        "            return not (self.__x + self.__length < other.__x or\n",
        "                        self.__x > other.__x + other.__length or\n",
        "                        self.__y + self.__width < other.__y or\n",
        "                        self.__y > other.__y + other.__width)\n",
        "        return False\n",
        "\n",
        "class Circle(Shape):\n",
        "    def __init__(self, radius, x, y):\n",
        "        self.__radius = radius\n",
        "        self.__x = x\n",
        "        self.__y = y\n",
        "\n",
        "    def area(self):\n",
        "        return math.pi * self.__radius ** 2\n",
        "\n",
        "    def perimeter(self):\n",
        "        return 2 * math.pi * self.__radius\n",
        "\n",
        "    def get_coordinates(self):\n",
        "        return (self.__x, self.__y)\n",
        "\n",
        "    def is_inside(self, x, y):\n",
        "        distance = math.sqrt((x - self.__x)**2 + (y - self.__y)**2)\n",
        "        return distance <= self.__radius\n",
        "\n",
        "    def overlaps(self, other):\n",
        "        # Check if a circle overlaps with another shape\n",
        "        if isinstance(other, Circle):\n",
        "            distance = math.sqrt((self.__x - other.__x) ** 2 + (self.__y - other.__y) ** 2)\n",
        "            return distance <= (self.__radius + other.__radius)\n",
        "        elif isinstance(other, Rectangle):\n",
        "            return other.overlaps(self)  # Call the rectangle's overlap method if it's a rectangle\n",
        "        return False\n"
      ]
    },
    {
      "cell_type": "code",
      "execution_count": 70,
      "metadata": {
        "colab": {
          "base_uri": "https://localhost:8080/"
        },
        "id": "YjAwVe00Anin",
        "outputId": "20612de8-3147-47bc-a357-bdee2260f422"
      },
      "outputs": [
        {
          "name": "stdout",
          "output_type": "stream",
          "text": [
            "True\n"
          ]
        }
      ],
      "source": [
        "rect1 = Rectangle(5, 3, 0, 0)\n",
        "rect2 = Rectangle(3, 2, 2, 1)\n",
        "print(rect1.overlaps(rect2))"
      ]
    },
    {
      "cell_type": "markdown",
      "metadata": {
        "id": "YINr8Noy6tWR"
      },
      "source": [
        "10. Copy the `Canvas` class from lecture to in a python file creating a `paint` module. Copy your classes from above into the module and implement paint functions. Implement a `CompoundShape` class. Create a simple drawing demonstrating that all of your classes are working."
      ]
    },
    {
      "cell_type": "code",
      "execution_count": 71,
      "metadata": {
        "id": "9PL1M6S76tWR"
      },
      "outputs": [],
      "source": [
        "class Canvas:\n",
        "    def __init__(self):\n",
        "        self.shapes = []\n",
        "\n",
        "    def add_shape(self, shape):\n",
        "        self.shapes.append(shape)\n",
        "\n",
        "    def draw(self):\n",
        "        for shape in self.shapes:\n",
        "            print(f\"Drawing {shape.__class__.__name__}\")"
      ]
    },
    {
      "cell_type": "code",
      "execution_count": 73,
      "metadata": {
        "id": "aXyp3DRuBTdB"
      },
      "outputs": [],
      "source": [
        "canvas = Canvas()"
      ]
    },
    {
      "cell_type": "code",
      "execution_count": 74,
      "metadata": {
        "id": "WUPMQwUQBXEC"
      },
      "outputs": [],
      "source": [
        "canvas.add_shape(Rectangle(5, 3, 0, 0))"
      ]
    },
    {
      "cell_type": "code",
      "execution_count": 77,
      "metadata": {
        "id": "SlRMN6-8BYWl"
      },
      "outputs": [],
      "source": [
        "canvas.add_shape(Circle(3, 1, 1))"
      ]
    },
    {
      "cell_type": "code",
      "execution_count": 78,
      "metadata": {
        "colab": {
          "base_uri": "https://localhost:8080/"
        },
        "id": "MUb-dcn8BdAh",
        "outputId": "75211136-c40f-45fa-cf45-0cc6277392cb"
      },
      "outputs": [
        {
          "name": "stdout",
          "output_type": "stream",
          "text": [
            "Drawing Rectangle\n",
            "Drawing Circle\n",
            "Drawing Circle\n",
            "Drawing Circle\n"
          ]
        }
      ],
      "source": [
        "canvas.draw()"
      ]
    },
    {
      "cell_type": "markdown",
      "metadata": {
        "id": "OWXphRyp6tWR"
      },
      "source": [
        "11. Create a `RasterDrawing` class. Demonstrate that you can create a drawing made of several shapes, paint the drawing, modify the drawing, and paint it again."
      ]
    },
    {
      "cell_type": "code",
      "execution_count": 79,
      "metadata": {
        "id": "SYnsIrbR6tWR"
      },
      "outputs": [],
      "source": [
        "import math\n",
        "\n",
        "# Base Shape class (abstract)\n",
        "class Shape:\n",
        "    def area(self):\n",
        "        pass\n",
        "\n",
        "    def perimeter(self):\n",
        "        pass\n",
        "\n",
        "    def __repr__(self):\n",
        "        pass\n",
        "\n",
        "\n",
        "# Rectangle class\n",
        "class Rectangle(Shape):\n",
        "    def __init__(self, length, width, x, y):\n",
        "        self.__length = length\n",
        "        self.__width = width\n",
        "        self.__x = x\n",
        "        self.__y = y\n",
        "\n",
        "    def area(self):\n",
        "        return self.__length * self.__width\n",
        "\n",
        "    def perimeter(self):\n",
        "        return 2 * (self.__length + self.__width)\n",
        "\n",
        "    def __repr__(self):\n",
        "        return f\"Rectangle({self.__length}, {self.__width}, {self.__x}, {self.__y})\"\n",
        "\n",
        "\n",
        "# Circle class\n",
        "class Circle(Shape):\n",
        "    def __init__(self, radius, x, y):\n",
        "        self.__radius = radius\n",
        "        self.__x = x\n",
        "        self.__y = y\n",
        "\n",
        "    def area(self):\n",
        "        return math.pi * self.__radius ** 2\n",
        "\n",
        "    def perimeter(self):\n",
        "        return 2 * math.pi * self.__radius\n",
        "\n",
        "    def __repr__(self):\n",
        "        return f\"Circle({self.__radius}, {self.__x}, {self.__y})\"\n",
        "\n",
        "\n",
        "# RasterDrawing class\n",
        "class RasterDrawing:\n",
        "    def __init__(self):\n",
        "        self.shapes = []\n",
        "\n",
        "    def add_shape(self, shape):\n",
        "        self.shapes.append(shape)\n",
        "\n",
        "    def paint(self):\n",
        "        print(\"Painting drawing...\")\n",
        "        for shape in self.shapes:\n",
        "            print(f\"Shape: {shape}, Area: {shape.area()}, Perimeter: {shape.perimeter()}\")\n",
        "\n",
        "    def modify_shape(self, index, new_shape):\n",
        "        if 0 <= index < len(self.shapes):\n",
        "            self.shapes[index] = new_shape\n",
        "        else:\n",
        "            print(\"Invalid index!\")\n"
      ]
    },
    {
      "cell_type": "code",
      "execution_count": 80,
      "metadata": {
        "id": "rXp3rmeJCzjL"
      },
      "outputs": [],
      "source": [
        "\n",
        "raster_drawing = RasterDrawing()"
      ]
    },
    {
      "cell_type": "code",
      "execution_count": 81,
      "metadata": {
        "id": "WMdFLnjeC1Rn"
      },
      "outputs": [],
      "source": [
        "rect1 = Rectangle(5, 3, 0, 0)\n",
        "circle1 = Circle(3, 5, 5)"
      ]
    },
    {
      "cell_type": "code",
      "execution_count": 82,
      "metadata": {
        "id": "8Kq8XRpCC6f_"
      },
      "outputs": [],
      "source": [
        "raster_drawing.add_shape(rect1)\n"
      ]
    },
    {
      "cell_type": "code",
      "execution_count": 83,
      "metadata": {
        "id": "ycUWaTDfC76T"
      },
      "outputs": [],
      "source": [
        "raster_drawing.add_shape(circle1)"
      ]
    },
    {
      "cell_type": "code",
      "execution_count": 84,
      "metadata": {
        "colab": {
          "base_uri": "https://localhost:8080/"
        },
        "id": "17uxRz94C3sQ",
        "outputId": "6d18cbee-ae99-453a-f435-8d0d2bf89e70"
      },
      "outputs": [
        {
          "name": "stdout",
          "output_type": "stream",
          "text": [
            "Painting drawing...\n",
            "Shape: Rectangle(5, 3, 0, 0), Area: 15, Perimeter: 16\n",
            "Shape: Circle(3, 5, 5), Area: 28.274333882308138, Perimeter: 18.84955592153876\n",
            "Shape: Rectangle(5, 3, 0, 0), Area: 15, Perimeter: 16\n",
            "Shape: Circle(3, 5, 5), Area: 28.274333882308138, Perimeter: 18.84955592153876\n"
          ]
        }
      ],
      "source": [
        "\n",
        "raster_drawing.paint()\n"
      ]
    },
    {
      "cell_type": "code",
      "execution_count": 85,
      "metadata": {
        "id": "nj7_BVflDAlk"
      },
      "outputs": [],
      "source": [
        "rect2 = Rectangle(4, 4, 2, 2)\n",
        "raster_drawing.modify_shape(0, rect2)"
      ]
    },
    {
      "cell_type": "code",
      "execution_count": 86,
      "metadata": {
        "colab": {
          "base_uri": "https://localhost:8080/"
        },
        "id": "4Jx7wRuQDDZO",
        "outputId": "b6204aa0-bb7f-4ccd-c5ca-a21c4234f0b1"
      },
      "outputs": [
        {
          "name": "stdout",
          "output_type": "stream",
          "text": [
            "Painting drawing...\n",
            "Shape: Rectangle(4, 4, 2, 2), Area: 16, Perimeter: 16\n",
            "Shape: Circle(3, 5, 5), Area: 28.274333882308138, Perimeter: 18.84955592153876\n",
            "Shape: Rectangle(5, 3, 0, 0), Area: 15, Perimeter: 16\n",
            "Shape: Circle(3, 5, 5), Area: 28.274333882308138, Perimeter: 18.84955592153876\n"
          ]
        }
      ],
      "source": [
        "raster_drawing.paint()"
      ]
    },
    {
      "cell_type": "markdown",
      "metadata": {
        "id": "z_ty0QRI6tWR"
      },
      "source": [
        "12. Implement the ability to load/save raster drawings and demonstate that your method works. One way to implement this ability:\n",
        "\n",
        "   * Overload `__repr__` functions of all objects to return strings of the python code that would construct the object.\n",
        "   \n",
        "   * In the save method of raster drawing class, store the representations into the file.\n",
        "   * Write a loader function that reads the file and uses `eval` to instantiate the object."
      ]
    },
    {
      "cell_type": "code",
      "execution_count": 87,
      "metadata": {
        "id": "Cgdqmd3ZDKnd"
      },
      "outputs": [],
      "source": [
        "class RasterDrawingWithSaveLoad(RasterDrawing):\n",
        "    def save(self, filename):\n",
        "        with open(filename, 'w') as file:\n",
        "            for shape in self.shapes:\n",
        "                file.write(repr(shape) + \"\\n\")\n",
        "        print(f\"Drawing saved to {filename}\")\n",
        "\n",
        "    def load(self, filename):\n",
        "        self.shapes = []\n",
        "        with open(filename, 'r') as file:\n",
        "            for line in file:\n",
        "                shape_code = line.strip()\n",
        "                shape = eval(shape_code)\n",
        "                self.shapes.append(shape)\n",
        "        print(f\"Drawing loaded from {filename}\")\n"
      ]
    },
    {
      "cell_type": "code",
      "execution_count": 88,
      "metadata": {
        "id": "yRH7Gt2dDPJv"
      },
      "outputs": [],
      "source": [
        "raster_drawing = RasterDrawingWithSaveLoad()"
      ]
    },
    {
      "cell_type": "code",
      "execution_count": 89,
      "metadata": {
        "id": "M--aJwRXDRZ0"
      },
      "outputs": [],
      "source": [
        "rect1 = Rectangle(5, 3, 0, 0)\n",
        "circle1 = Circle(3, 5, 5)\n",
        "raster_drawing.add_shape(rect1)\n",
        "raster_drawing.add_shape(circle1)"
      ]
    },
    {
      "cell_type": "code",
      "execution_count": 90,
      "metadata": {
        "colab": {
          "base_uri": "https://localhost:8080/"
        },
        "id": "IH7fSqs5DTIQ",
        "outputId": "e09de761-9697-4225-b35e-ff75b1ba5eb6"
      },
      "outputs": [
        {
          "name": "stdout",
          "output_type": "stream",
          "text": [
            "Painting drawing...\n",
            "Shape: Rectangle(5, 3, 0, 0), Area: 15, Perimeter: 16\n",
            "Shape: Circle(3, 5, 5), Area: 28.274333882308138, Perimeter: 18.84955592153876\n"
          ]
        }
      ],
      "source": [
        "raster_drawing.paint()"
      ]
    },
    {
      "cell_type": "code",
      "execution_count": 91,
      "metadata": {
        "colab": {
          "base_uri": "https://localhost:8080/"
        },
        "id": "c5uOPlyADWGF",
        "outputId": "7715a50a-4801-4004-f1c7-d7d418a72ebc"
      },
      "outputs": [
        {
          "name": "stdout",
          "output_type": "stream",
          "text": [
            "Drawing saved to drawing.txt\n",
            "Drawing loaded from drawing.txt\n",
            "Painting drawing...\n",
            "Shape: Rectangle(5, 3, 0, 0), Area: 15, Perimeter: 16\n",
            "Shape: Circle(3, 5, 5), Area: 28.274333882308138, Perimeter: 18.84955592153876\n"
          ]
        }
      ],
      "source": [
        "raster_drawing.save(\"drawing.txt\")\n",
        "\n",
        "new_raster_drawing = RasterDrawingWithSaveLoad()\n",
        "new_raster_drawing.load(\"drawing.txt\")\n",
        "new_raster_drawing.paint()"
      ]
    }
  ],
  "metadata": {
    "colab": {
      "provenance": []
    },
    "kernelspec": {
      "display_name": "Python 3 (ipykernel)",
      "language": "python",
      "name": "python3"
    },
    "language_info": {
      "codemirror_mode": {
        "name": "ipython",
        "version": 3
      },
      "file_extension": ".py",
      "mimetype": "text/x-python",
      "name": "python",
      "nbconvert_exporter": "python",
      "pygments_lexer": "ipython3",
      "version": "3.9.6"
    }
  },
  "nbformat": 4,
  "nbformat_minor": 0
}
