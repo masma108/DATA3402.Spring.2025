{
  "cells": [
    {
      "cell_type": "markdown",
      "metadata": {
        "id": "QqlFkgxaIA1d"
      },
      "source": [
        "## Lab 2- Tic Tac Toe\n",
        "\n",
        "In this lab your will build a n x n Tic Tac Toe game. As you do the exercises, make sure your solutions work for any size Tic Tac Toe game."
      ]
    },
    {
      "cell_type": "markdown",
      "metadata": {
        "id": "GCTsS4tYIA1e"
      },
      "source": [
        "*Exercise 1:* Write a function that creates an n by n matrix (of list of lists) which will represent the state of a Tie Tac Toe game. Let 0, 1, and 2 represent empty, \"X\", and \"O\", respectively.\n"
      ]
    },
    {
      "cell_type": "code",
      "execution_count": 1,
      "metadata": {
        "collapsed": true,
        "id": "ch3fHnKqIA1e"
      },
      "outputs": [],
      "source": [
        "def create_board(n):\n",
        "    return [[0 for _ in range(n)] for _ in range(n)]"
      ]
    },
    {
      "cell_type": "code",
      "execution_count": 2,
      "metadata": {
        "collapsed": true,
        "colab": {
          "base_uri": "https://localhost:8080/"
        },
        "id": "P_92JZQDIA1f",
        "outputId": "4a535989-509a-4104-c480-c72fb5161113"
      },
      "outputs": [
        {
          "output_type": "stream",
          "name": "stdout",
          "text": [
            "[0, 0, 0]\n",
            "[0, 0, 0]\n",
            "[0, 0, 0]\n"
          ]
        }
      ],
      "source": [
        "board = create_board(3)\n",
        "\n",
        "for row in board:\n",
        "    print(row)"
      ]
    },
    {
      "cell_type": "markdown",
      "metadata": {
        "id": "fdV3dXkVIA1f"
      },
      "source": [
        "*Exercise 2:* Write a function that takes 2 integers `n` and `m` as input and draws a `n` by `m` game board. For example the following is a 3x3 board:\n",
        "```\n",
        "   --- --- ---\n",
        "  |   |   |   |\n",
        "   --- --- ---  \n",
        "  |   |   |   |\n",
        "   --- --- ---  \n",
        "  |   |   |   |\n",
        "   --- --- ---\n",
        "   ```"
      ]
    },
    {
      "cell_type": "code",
      "execution_count": 3,
      "metadata": {
        "collapsed": true,
        "id": "3oxe1UciIA1f"
      },
      "outputs": [],
      "source": [
        "def draw_board(n, m):\n",
        "    for i in range(n):\n",
        "        print(\" ---\" * m)\n",
        "        print(\"|   \" * m + \"|\")\n",
        "    print(\" ---\" * m)"
      ]
    },
    {
      "cell_type": "code",
      "execution_count": 4,
      "metadata": {
        "collapsed": true,
        "colab": {
          "base_uri": "https://localhost:8080/"
        },
        "id": "vrgjOWslIA1f",
        "outputId": "451ca548-464f-4749-8e69-ed82b0d462f6"
      },
      "outputs": [
        {
          "output_type": "stream",
          "name": "stdout",
          "text": [
            " --- --- ---\n",
            "|   |   |   |\n",
            " --- --- ---\n",
            "|   |   |   |\n",
            " --- --- ---\n",
            "|   |   |   |\n",
            " --- --- ---\n"
          ]
        }
      ],
      "source": [
        "draw_board(3, 3)"
      ]
    },
    {
      "cell_type": "markdown",
      "metadata": {
        "id": "XfqhER1TIA1f"
      },
      "source": [
        "*Exercise 3:* Modify exercise 2, so that it takes a matrix of the form from exercise 1 and draws a tic-tac-tie board with \"X\"s and \"O\"s.  "
      ]
    },
    {
      "cell_type": "code",
      "execution_count": 5,
      "metadata": {
        "collapsed": true,
        "id": "1vhTEQmBIA1f"
      },
      "outputs": [],
      "source": [
        "def draw_board_with_symbols(board):\n",
        "    n = len(board)\n",
        "    m = len(board[0]) if board else 0\n",
        "    symbols = {0: ' ', 1: 'X', 2: 'O'}\n",
        "\n",
        "    for i in range(n):\n",
        "        print(\" ---\" * m)\n",
        "        row = ''\n",
        "        for j in range(m):\n",
        "            row += f\"| {symbols[board[i][j]]} \"\n",
        "        row += \"|\"\n",
        "        print(row)\n",
        "    print(\" ---\" * m)"
      ]
    },
    {
      "cell_type": "code",
      "execution_count": 6,
      "metadata": {
        "collapsed": true,
        "id": "ESJlzj6UIA1f"
      },
      "outputs": [],
      "source": [
        "board = [\n",
        "    [1, 2, 0],\n",
        "    [0, 1, 0],\n",
        "    [2, 0, 1]\n",
        "]"
      ]
    },
    {
      "cell_type": "markdown",
      "metadata": {
        "id": "FOZ6HWzEIA1g"
      },
      "source": [
        "*Exercise 4:* Write a function that takes a `n` by `n` matrix representing a tic-tac-toe game, and returns -1, 0, 1, or 2 indicating the game is incomplete, the game is a draw, player 1 has won, or player 2 has one, respectively. Here are some example inputs you can use to test your code:"
      ]
    },
    {
      "cell_type": "code",
      "execution_count": 9,
      "metadata": {
        "collapsed": true,
        "id": "uBnvqeTMIA1g"
      },
      "outputs": [],
      "source": [
        "def check_game_status(board):\n",
        "    n = len(board)\n",
        "\n",
        "    for row in board:\n",
        "        if row.count(row[0]) == n and row[0] != 0:\n",
        "            return row[0]\n",
        "\n",
        "    for col in range(n):\n",
        "        column = [board[row][col] for row in range(n)]\n",
        "        if column.count(column[0]) == n and column[0] != 0:\n",
        "            return column[0]\n",
        "\n",
        "    if all(board[i][i] == board[0][0] for i in range(n)) and board[0][0] != 0:\n",
        "        return board[0][0]\n",
        "\n",
        "    if all(board[i][n - 1 - i] == board[0][n - 1] for i in range(n)) and board[0][n - 1] != 0:\n",
        "        return board[0][n - 1]\n",
        "\n",
        "    for row in board:\n",
        "        if 0 in row:\n",
        "            return -1\n",
        "\n",
        "    return 0\n"
      ]
    },
    {
      "cell_type": "code",
      "execution_count": 10,
      "metadata": {
        "collapsed": true,
        "colab": {
          "base_uri": "https://localhost:8080/"
        },
        "id": "SmTZxH3_IA1g",
        "outputId": "a87c3778-f0bd-4447-89bf-942628cf3571"
      },
      "outputs": [
        {
          "output_type": "stream",
          "name": "stdout",
          "text": [
            "1\n",
            "2\n",
            "0\n",
            "-1\n"
          ]
        }
      ],
      "source": [
        "# player 1 win (diagonal)\n",
        "board1 = [\n",
        "    [1, 2, 0],\n",
        "    [0, 1, 0],\n",
        "    [2, 0, 1]\n",
        "]\n",
        "\n",
        "# player 2 win (diagonal)\n",
        "board2 = [\n",
        "    [2, 1, 1],\n",
        "    [1, 2, 2],\n",
        "    [2, 1, 2]\n",
        "]\n",
        "\n",
        "# draw, no winner, no 0s\n",
        "board3 = [\n",
        "    [1, 2, 1],\n",
        "    [2, 2, 1],\n",
        "    [1, 1, 2]\n",
        "]\n",
        "\n",
        "# still playing (some 0s)\n",
        "board4 = [\n",
        "    [1, 2, 0],\n",
        "    [2, 1, 0],\n",
        "    [0, 0, 0]\n",
        "]\n",
        "\n",
        "print(check_game_status(board1))\n",
        "print(check_game_status(board2))\n",
        "print(check_game_status(board3))\n",
        "print(check_game_status(board4))\n"
      ]
    },
    {
      "cell_type": "code",
      "execution_count": 11,
      "metadata": {
        "collapsed": true,
        "id": "aCbvs4GuIA1g"
      },
      "outputs": [],
      "source": [
        "winner_is_2 = [[2, 2, 0],\n",
        "\t[2, 1, 0],\n",
        "\t[2, 1, 1]]\n",
        "\n",
        "winner_is_1 = [[1, 2, 0],\n",
        "\t[2, 1, 0],\n",
        "\t[2, 1, 1]]\n",
        "\n",
        "winner_is_also_1 = [[0, 1, 0],\n",
        "\t[2, 1, 0],\n",
        "\t[2, 1, 1]]\n",
        "\n",
        "no_winner = [[1, 2, 0],\n",
        "\t[2, 1, 0],\n",
        "\t[2, 1, 2]]\n",
        "\n",
        "also_no_winner = [[1, 2, 0],\n",
        "\t[2, 1, 0],\n",
        "\t[2, 1, 0]]"
      ]
    },
    {
      "cell_type": "markdown",
      "metadata": {
        "id": "S-o_PMJYIA1g"
      },
      "source": [
        "*Exercise 5:* Write a function that takes a game board, player number, and `(x,y)` coordinates and places \"X\" or \"O\" in the correct location of the game board. Make sure that you only allow filling previously empty locations. Return `True` or `False` to indicate successful placement of \"X\" or \"O\"."
      ]
    },
    {
      "cell_type": "code",
      "execution_count": 12,
      "metadata": {
        "collapsed": true,
        "id": "w-zePR64IA1g"
      },
      "outputs": [],
      "source": [
        "def place_marker(board, player, x, y):\n",
        "    if board[x][y] == 0:\n",
        "        board[x][y] = player\n",
        "        return True\n",
        "    return False"
      ]
    },
    {
      "cell_type": "code",
      "execution_count": 16,
      "metadata": {
        "collapsed": true,
        "colab": {
          "base_uri": "https://localhost:8080/"
        },
        "id": "nEbuleHOIA1g",
        "outputId": "a6ff5bc8-39be-43f7-bfa8-e2fefb23588a"
      },
      "outputs": [
        {
          "output_type": "stream",
          "name": "stdout",
          "text": [
            "True\n",
            "False\n"
          ]
        }
      ],
      "source": [
        "winner_is_2 = [[2, 2, 0], [2, 1, 0], [2, 1, 1]]\n",
        "winner_is_1 = [[1, 2, 0], [2, 1, 0], [2, 1, 1]]\n",
        "\n",
        "result = place_marker(winner_is_2, 1, 0, 2)\n",
        "print(result)\n",
        "\n",
        "result = place_marker(winner_is_1, 2, 1, 1)\n",
        "print(result)"
      ]
    },
    {
      "cell_type": "markdown",
      "metadata": {
        "id": "F9C_SA2zIA1h"
      },
      "source": [
        "*Exercise 6:* Modify Exercise 3 to show column and row labels so that players can specify location using \"A2\" or \"C1\"."
      ]
    },
    {
      "cell_type": "code",
      "execution_count": 17,
      "metadata": {
        "collapsed": true,
        "id": "TXOGp8A1IA1h"
      },
      "outputs": [],
      "source": [
        "def place_marker_with_labels(board, player, position):\n",
        "    row_labels = ['A', 'B', 'C']\n",
        "    col_labels = ['1', '2', '3']\n",
        "\n",
        "    row = row_labels.index(position[0])\n",
        "    col = col_labels.index(position[1])\n",
        "\n",
        "    if board[row][col] == 0:\n",
        "        board[row][col] = player\n",
        "        return True\n",
        "    return False"
      ]
    },
    {
      "cell_type": "code",
      "execution_count": 18,
      "metadata": {
        "collapsed": true,
        "colab": {
          "base_uri": "https://localhost:8080/"
        },
        "id": "eY9atoe_IA1h",
        "outputId": "4c245c5d-6b8f-4dce-fea5-1e61f3411fcd"
      },
      "outputs": [
        {
          "output_type": "stream",
          "name": "stdout",
          "text": [
            "False\n",
            "False\n"
          ]
        }
      ],
      "source": [
        "winner_is_2 = [[2, 2, 0], [2, 1, 0], [2, 1, 1]]\n",
        "winner_is_1 = [[1, 2, 0], [2, 1, 0], [2, 1, 1]]\n",
        "\n",
        "result = place_marker_with_labels(winner_is_2, 1, \"A2\")\n",
        "print(result)\n",
        "\n",
        "result = place_marker_with_labels(winner_is_1, 2, \"B2\")\n",
        "print(result)"
      ]
    },
    {
      "cell_type": "markdown",
      "metadata": {
        "id": "at9cqTy_IA1i"
      },
      "source": [
        "*Exercise 7:* Write a function that takes a board, player number, and location specified as in exercise 6 and then calls exercise 5 to correctly modify the board.  "
      ]
    },
    {
      "cell_type": "code",
      "execution_count": 19,
      "metadata": {
        "collapsed": true,
        "id": "H-JVeUdHIA1i"
      },
      "outputs": [],
      "source": [
        "def modify_board_with_location(board, player, position):\n",
        "    return place_marker_with_labels(board, player, position)"
      ]
    },
    {
      "cell_type": "code",
      "execution_count": 20,
      "metadata": {
        "collapsed": true,
        "colab": {
          "base_uri": "https://localhost:8080/"
        },
        "id": "ZUxPxEgZIA1i",
        "outputId": "cef6bae9-3178-4beb-bca4-a47d9074a5fd"
      },
      "outputs": [
        {
          "output_type": "stream",
          "name": "stdout",
          "text": [
            "False\n",
            "False\n"
          ]
        }
      ],
      "source": [
        "winner_is_2 = [[2, 2, 0], [2, 1, 0], [2, 1, 1]]\n",
        "winner_is_1 = [[1, 2, 0], [2, 1, 0], [2, 1, 1]]\n",
        "\n",
        "result = modify_board_with_location(winner_is_2, 1, \"A2\")\n",
        "print(result)\n",
        "\n",
        "result = modify_board_with_location(winner_is_1, 2, \"B2\")\n",
        "print(result)"
      ]
    },
    {
      "cell_type": "markdown",
      "metadata": {
        "id": "zAmwwDRVIA1i"
      },
      "source": [
        "*Exercise 8:* Write a function is called with a board and player number, takes input from the player using python's `input`, and modifies the board using your function from exercise 7. Note that you should keep asking for input until you have gotten a valid input that results in a valid move."
      ]
    },
    {
      "cell_type": "code",
      "execution_count": 21,
      "metadata": {
        "collapsed": true,
        "id": "Phv78pzeIA1i"
      },
      "outputs": [],
      "source": [
        "def player_move(board, player):\n",
        "    while True:\n",
        "        position = input(f\"Player {player}, enter your move (e.g., A2, B3, C1): \").upper()\n",
        "        if position[0] in ['A', 'B', 'C'] and position[1] in ['1', '2', '3']:\n",
        "            if modify_board_with_location(board, player, position):\n",
        "                print(f\"Player {player} moved to {position}\")\n",
        "                break\n",
        "            else:\n",
        "                print(\"That spot is already taken. Try again.\")\n",
        "        else:\n",
        "            print(\"Invalid input. Please enter a valid position like 'A2', 'B3', etc.\")"
      ]
    },
    {
      "cell_type": "code",
      "execution_count": 22,
      "metadata": {
        "collapsed": true,
        "colab": {
          "base_uri": "https://localhost:8080/"
        },
        "id": "MXEN2ooYIA1i",
        "outputId": "2d31bcd8-c375-41fa-af86-2bcc5389f7ad"
      },
      "outputs": [
        {
          "output_type": "stream",
          "name": "stdout",
          "text": [
            "Player 1, enter your move (e.g., A2, B3, C1): A2\n",
            "Player 1 moved to A2\n",
            "Player 2, enter your move (e.g., A2, B3, C1): C1\n",
            "Player 2 moved to C1\n"
          ]
        }
      ],
      "source": [
        "board = [[0, 0, 0], [0, 0, 0], [0, 0, 0]]\n",
        "\n",
        "player_move(board, 1)\n",
        "\n",
        "player_move(board, 2)"
      ]
    },
    {
      "cell_type": "markdown",
      "metadata": {
        "id": "WMTzn7erIA1i"
      },
      "source": [
        "*Exercise 9:* Use all of the previous exercises to implement a full tic-tac-toe game, where an appropriate board is drawn, 2 players are repeatedly asked for a location coordinates of where they wish to place a mark, and the game status is checked until a player wins or a draw occurs."
      ]
    },
    {
      "cell_type": "code",
      "execution_count": 23,
      "metadata": {
        "collapsed": true,
        "colab": {
          "base_uri": "https://localhost:8080/"
        },
        "id": "s8J0TrFCIA1i",
        "outputId": "590a8257-d23e-42ea-ebcb-14dc897a310d"
      },
      "outputs": [
        {
          "output_type": "stream",
          "name": "stdout",
          "text": [
            "  1 2 3\n",
            "A 0 0 0\n",
            "B 0 0 0\n",
            "C 0 0 0\n",
            "Player 1, enter your move (e.g., A2, B3, C1): A1\n",
            "Player 1 moved to A1\n",
            "  1 2 3\n",
            "A 1 0 0\n",
            "B 0 0 0\n",
            "C 0 0 0\n",
            "Player 2, enter your move (e.g., A2, B3, C1): B3\n",
            "Player 2 moved to B3\n",
            "  1 2 3\n",
            "A 1 0 0\n",
            "B 0 0 2\n",
            "C 0 0 0\n",
            "Player 1, enter your move (e.g., A2, B3, C1): B2\n",
            "Player 1 moved to B2\n",
            "  1 2 3\n",
            "A 1 0 0\n",
            "B 0 1 2\n",
            "C 0 0 0\n",
            "Player 2, enter your move (e.g., A2, B3, C1): B1\n",
            "Player 2 moved to B1\n",
            "  1 2 3\n",
            "A 1 0 0\n",
            "B 2 1 2\n",
            "C 0 0 0\n",
            "Player 1, enter your move (e.g., A2, B3, C1): B1\n",
            "That spot is already taken. Try again.\n",
            "Player 1, enter your move (e.g., A2, B3, C1): A2\n",
            "Player 1 moved to A2\n",
            "  1 2 3\n",
            "A 1 1 0\n",
            "B 2 1 2\n",
            "C 0 0 0\n",
            "Player 2, enter your move (e.g., A2, B3, C1): A2\n",
            "That spot is already taken. Try again.\n",
            "Player 2, enter your move (e.g., A2, B3, C1): A3\n",
            "Player 2 moved to A3\n",
            "  1 2 3\n",
            "A 1 1 2\n",
            "B 2 1 2\n",
            "C 0 0 0\n",
            "Player 1, enter your move (e.g., A2, B3, C1): C2\n",
            "Player 1 moved to C2\n",
            "  1 2 3\n",
            "A 1 1 2\n",
            "B 2 1 2\n",
            "C 0 1 0\n",
            "Player 1 wins!\n"
          ]
        }
      ],
      "source": [
        "def print_board(board):\n",
        "    print(\"  1 2 3\")\n",
        "    for i, row in enumerate(board):\n",
        "        print(chr(65 + i), \" \".join(map(str, row)))\n",
        "\n",
        "def check_game_status(board):\n",
        "    n = len(board)\n",
        "    for row in board:\n",
        "        if row.count(row[0]) == n and row[0] != 0:\n",
        "            return row[0]\n",
        "    for col in range(n):\n",
        "        column = [board[row][col] for row in range(n)]\n",
        "        if column.count(column[0]) == n and column[0] != 0:\n",
        "            return column[0]\n",
        "    if all(board[i][i] == board[0][0] for i in range(n)) and board[0][0] != 0:\n",
        "        return board[0][0]\n",
        "    if all(board[i][n - 1 - i] == board[0][n - 1] for i in range(n)) and board[0][n - 1] != 0:\n",
        "        return board[0][n - 1]\n",
        "    for row in board:\n",
        "        if 0 in row:\n",
        "            return -1\n",
        "    return 0\n",
        "\n",
        "def place_marker_with_labels(board, player, position):\n",
        "    row_labels = ['A', 'B', 'C']\n",
        "    col_labels = ['1', '2', '3']\n",
        "    row = row_labels.index(position[0])\n",
        "    col = col_labels.index(position[1])\n",
        "    if board[row][col] == 0:\n",
        "        board[row][col] = player\n",
        "        return True\n",
        "    return False\n",
        "\n",
        "def modify_board_with_location(board, player, position):\n",
        "    return place_marker_with_labels(board, player, position)\n",
        "\n",
        "def player_move(board, player):\n",
        "    while True:\n",
        "        position = input(f\"Player {player}, enter your move (e.g., A2, B3, C1): \").upper()\n",
        "        if position[0] in ['A', 'B', 'C'] and position[1] in ['1', '2', '3']:\n",
        "            if modify_board_with_location(board, player, position):\n",
        "                print(f\"Player {player} moved to {position}\")\n",
        "                break\n",
        "            else:\n",
        "                print(\"That spot is already taken. Try again.\")\n",
        "        else:\n",
        "            print(\"Invalid input. Please enter a valid position like 'A2', 'B3', etc.\")\n",
        "\n",
        "def play_game():\n",
        "    board = [[0, 0, 0], [0, 0, 0], [0, 0, 0]]\n",
        "    print_board(board)\n",
        "    current_player = 1\n",
        "\n",
        "    while True:\n",
        "        player_move(board, current_player)\n",
        "        print_board(board)\n",
        "\n",
        "        game_status = check_game_status(board)\n",
        "\n",
        "        if game_status == 1:\n",
        "            print(\"Player 1 wins!\")\n",
        "            break\n",
        "        elif game_status == 2:\n",
        "            print(\"Player 2 wins!\")\n",
        "            break\n",
        "        elif game_status == 0:\n",
        "            print(\"It's a draw!\")\n",
        "            break\n",
        "\n",
        "        current_player = 2 if current_player == 1 else 1\n",
        "\n",
        "play_game()"
      ]
    },
    {
      "cell_type": "markdown",
      "metadata": {
        "id": "5ZRRWXj8IA1j"
      },
      "source": [
        "*Exercise 10:* Test that your game works for 5x5 Tic Tac Toe.  "
      ]
    },
    {
      "cell_type": "code",
      "execution_count": 24,
      "metadata": {
        "collapsed": true,
        "colab": {
          "base_uri": "https://localhost:8080/"
        },
        "id": "ZHJf4m6VIA1j",
        "outputId": "8ced9f4d-65b0-4fa6-e74b-5dcc502d754c"
      },
      "outputs": [
        {
          "output_type": "stream",
          "name": "stdout",
          "text": [
            "  1 2 3\n",
            "A 0 0 0 0 0\n",
            "B 0 0 0 0 0\n",
            "C 0 0 0 0 0\n",
            "D 0 0 0 0 0\n",
            "E 0 0 0 0 0\n",
            "Player 1, enter your move (e.g., A2, B3, C1): A2\n",
            "Player 1 moved to A2\n",
            "  1 2 3\n",
            "A 0 1 0 0 0\n",
            "B 0 0 0 0 0\n",
            "C 0 0 0 0 0\n",
            "D 0 0 0 0 0\n",
            "E 0 0 0 0 0\n",
            "Game Status: -1\n"
          ]
        }
      ],
      "source": [
        "board_5x5 = [[0, 0, 0, 0, 0],\n",
        "             [0, 0, 0, 0, 0],\n",
        "             [0, 0, 0, 0, 0],\n",
        "             [0, 0, 0, 0, 0],\n",
        "             [0, 0, 0, 0, 0]]\n",
        "\n",
        "print_board(board_5x5)\n",
        "\n",
        "player_move(board_5x5, 1)\n",
        "print_board(board_5x5)\n",
        "\n",
        "status = check_game_status(board_5x5)\n",
        "print(\"Game Status:\", status)"
      ]
    },
    {
      "cell_type": "markdown",
      "metadata": {
        "id": "qWZ8WGXbIA1j"
      },
      "source": [
        "*Exercise 11:* (Advanced / Challenge) Develop a version of the game where one player is the computer. Note that you don't need to do an extensive seach for the best move. You can have the computer simply protect against loosing and otherwise try to win with straight or diagonal patterns."
      ]
    },
    {
      "cell_type": "code",
      "execution_count": 25,
      "metadata": {
        "collapsed": true,
        "colab": {
          "base_uri": "https://localhost:8080/"
        },
        "id": "DD7kpqOXIA1j",
        "outputId": "b417efce-9d9f-49a3-c489-146f07cd41d0"
      },
      "outputs": [
        {
          "output_type": "stream",
          "name": "stdout",
          "text": [
            "   1 2 3 4 5\n",
            "A 0 0 0 0 0\n",
            "B 0 0 0 0 0\n",
            "C 0 0 0 0 0\n",
            "D 0 0 0 0 0\n",
            "E 0 0 0 0 0\n",
            "Player 1, enter your move (e.g., A2, B5, E1): E1\n",
            "Player 1 moved to E1\n",
            "   1 2 3 4 5\n",
            "A 0 0 0 0 0\n",
            "B 0 0 0 0 0\n",
            "C 0 0 0 0 0\n",
            "D 0 0 0 0 0\n",
            "E 1 0 0 0 0\n",
            "Computer (Player 2) moves to B4\n",
            "   1 2 3 4 5\n",
            "A 0 0 0 0 0\n",
            "B 0 0 0 2 0\n",
            "C 0 0 0 0 0\n",
            "D 0 0 0 0 0\n",
            "E 1 0 0 0 0\n",
            "Player 1, enter your move (e.g., A2, B5, E1): A1\n",
            "Player 1 moved to A1\n",
            "   1 2 3 4 5\n",
            "A 1 0 0 0 0\n",
            "B 0 0 0 2 0\n",
            "C 0 0 0 0 0\n",
            "D 0 0 0 0 0\n",
            "E 1 0 0 0 0\n",
            "Computer (Player 2) moves to B3\n",
            "   1 2 3 4 5\n",
            "A 1 0 0 0 0\n",
            "B 0 0 2 2 0\n",
            "C 0 0 0 0 0\n",
            "D 0 0 0 0 0\n",
            "E 1 0 0 0 0\n",
            "Player 1, enter your move (e.g., A2, B5, E1): A2\n",
            "Player 1 moved to A2\n",
            "   1 2 3 4 5\n",
            "A 1 1 0 0 0\n",
            "B 0 0 2 2 0\n",
            "C 0 0 0 0 0\n",
            "D 0 0 0 0 0\n",
            "E 1 0 0 0 0\n",
            "Computer (Player 2) moves to E2\n",
            "   1 2 3 4 5\n",
            "A 1 1 0 0 0\n",
            "B 0 0 2 2 0\n",
            "C 0 0 0 0 0\n",
            "D 0 0 0 0 0\n",
            "E 1 2 0 0 0\n",
            "Player 1, enter your move (e.g., A2, B5, E1): A3\n",
            "Player 1 moved to A3\n",
            "   1 2 3 4 5\n",
            "A 1 1 1 0 0\n",
            "B 0 0 2 2 0\n",
            "C 0 0 0 0 0\n",
            "D 0 0 0 0 0\n",
            "E 1 2 0 0 0\n",
            "Computer (Player 2) moves to C3\n",
            "   1 2 3 4 5\n",
            "A 1 1 1 0 0\n",
            "B 0 0 2 2 0\n",
            "C 0 0 2 0 0\n",
            "D 0 0 0 0 0\n",
            "E 1 2 0 0 0\n",
            "Player 1, enter your move (e.g., A2, B5, E1): A4\n",
            "Player 1 moved to A4\n",
            "   1 2 3 4 5\n",
            "A 1 1 1 1 0\n",
            "B 0 0 2 2 0\n",
            "C 0 0 2 0 0\n",
            "D 0 0 0 0 0\n",
            "E 1 2 0 0 0\n",
            "Computer (Player 2) blocks at A5\n",
            "   1 2 3 4 5\n",
            "A 1 1 1 1 2\n",
            "B 0 0 2 2 0\n",
            "C 0 0 2 0 0\n",
            "D 0 0 0 0 0\n",
            "E 1 2 0 0 0\n",
            "Player 1, enter your move (e.g., A2, B5, E1): A5\n",
            "That spot is already taken. Try again.\n",
            "Player 1, enter your move (e.g., A2, B5, E1): A6\n",
            "Invalid input. Please enter a valid position like 'A2', 'B3', etc.\n",
            "Player 1, enter your move (e.g., A2, B5, E1):  B1\n",
            "Invalid input. Please enter a valid position like 'A2', 'B3', etc.\n",
            "Player 1, enter your move (e.g., A2, B5, E1): V2\n",
            "Invalid input. Please enter a valid position like 'A2', 'B3', etc.\n",
            "Player 1, enter your move (e.g., A2, B5, E1): B1\n",
            "Player 1 moved to B1\n",
            "   1 2 3 4 5\n",
            "A 1 1 1 1 2\n",
            "B 1 0 2 2 0\n",
            "C 0 0 2 0 0\n",
            "D 0 0 0 0 0\n",
            "E 1 2 0 0 0\n",
            "Computer (Player 2) moves to C5\n",
            "   1 2 3 4 5\n",
            "A 1 1 1 1 2\n",
            "B 1 0 2 2 0\n",
            "C 0 0 2 0 2\n",
            "D 0 0 0 0 0\n",
            "E 1 2 0 0 0\n",
            "Player 1, enter your move (e.g., A2, B5, E1): B2\n",
            "Player 1 moved to B2\n",
            "   1 2 3 4 5\n",
            "A 1 1 1 1 2\n",
            "B 1 1 2 2 0\n",
            "C 0 0 2 0 2\n",
            "D 0 0 0 0 0\n",
            "E 1 2 0 0 0\n",
            "Computer (Player 2) moves to C1\n",
            "   1 2 3 4 5\n",
            "A 1 1 1 1 2\n",
            "B 1 1 2 2 0\n",
            "C 2 0 2 0 2\n",
            "D 0 0 0 0 0\n",
            "E 1 2 0 0 0\n",
            "Player 1, enter your move (e.g., A2, B5, E1): B3\n",
            "That spot is already taken. Try again.\n",
            "Player 1, enter your move (e.g., A2, B5, E1): B4\n",
            "That spot is already taken. Try again.\n",
            "Player 1, enter your move (e.g., A2, B5, E1): B5\n",
            "Player 1 moved to B5\n",
            "   1 2 3 4 5\n",
            "A 1 1 1 1 2\n",
            "B 1 1 2 2 1\n",
            "C 2 0 2 0 2\n",
            "D 0 0 0 0 0\n",
            "E 1 2 0 0 0\n",
            "Computer (Player 2) moves to D5\n",
            "   1 2 3 4 5\n",
            "A 1 1 1 1 2\n",
            "B 1 1 2 2 1\n",
            "C 2 0 2 0 2\n",
            "D 0 0 0 0 2\n",
            "E 1 2 0 0 0\n",
            "Player 1, enter your move (e.g., A2, B5, E1): B6\n",
            "Invalid input. Please enter a valid position like 'A2', 'B3', etc.\n",
            "Player 1, enter your move (e.g., A2, B5, E1): C1\n",
            "That spot is already taken. Try again.\n",
            "Player 1, enter your move (e.g., A2, B5, E1): C2\n",
            "Player 1 moved to C2\n",
            "   1 2 3 4 5\n",
            "A 1 1 1 1 2\n",
            "B 1 1 2 2 1\n",
            "C 2 1 2 0 2\n",
            "D 0 0 0 0 2\n",
            "E 1 2 0 0 0\n",
            "Computer (Player 2) moves to C4\n",
            "   1 2 3 4 5\n",
            "A 1 1 1 1 2\n",
            "B 1 1 2 2 1\n",
            "C 2 1 2 2 2\n",
            "D 0 0 0 0 2\n",
            "E 1 2 0 0 0\n",
            "Player 1, enter your move (e.g., A2, B5, E1): C3\n",
            "That spot is already taken. Try again.\n",
            "Player 1, enter your move (e.g., A2, B5, E1): C4\n",
            "That spot is already taken. Try again.\n",
            "Player 1, enter your move (e.g., A2, B5, E1): C5\n",
            "That spot is already taken. Try again.\n",
            "Player 1, enter your move (e.g., A2, B5, E1): C6\n",
            "Invalid input. Please enter a valid position like 'A2', 'B3', etc.\n",
            "Player 1, enter your move (e.g., A2, B5, E1): D1\n",
            "Player 1 moved to D1\n",
            "   1 2 3 4 5\n",
            "A 1 1 1 1 2\n",
            "B 1 1 2 2 1\n",
            "C 2 1 2 2 2\n",
            "D 1 0 0 0 2\n",
            "E 1 2 0 0 0\n",
            "Computer (Player 2) moves to E4\n",
            "   1 2 3 4 5\n",
            "A 1 1 1 1 2\n",
            "B 1 1 2 2 1\n",
            "C 2 1 2 2 2\n",
            "D 1 0 0 0 2\n",
            "E 1 2 0 2 0\n",
            "Player 1, enter your move (e.g., A2, B5, E1): D2\n",
            "Player 1 moved to D2\n",
            "   1 2 3 4 5\n",
            "A 1 1 1 1 2\n",
            "B 1 1 2 2 1\n",
            "C 2 1 2 2 2\n",
            "D 1 1 0 0 2\n",
            "E 1 2 0 2 0\n",
            "Computer (Player 2) moves to E5\n",
            "   1 2 3 4 5\n",
            "A 1 1 1 1 2\n",
            "B 1 1 2 2 1\n",
            "C 2 1 2 2 2\n",
            "D 1 1 0 0 2\n",
            "E 1 2 0 2 2\n",
            "Player 1, enter your move (e.g., A2, B5, E1): D3\n",
            "Player 1 moved to D3\n",
            "   1 2 3 4 5\n",
            "A 1 1 1 1 2\n",
            "B 1 1 2 2 1\n",
            "C 2 1 2 2 2\n",
            "D 1 1 1 0 2\n",
            "E 1 2 0 2 2\n",
            "Computer (Player 2) moves to E3\n",
            "   1 2 3 4 5\n",
            "A 1 1 1 1 2\n",
            "B 1 1 2 2 1\n",
            "C 2 1 2 2 2\n",
            "D 1 1 1 0 2\n",
            "E 1 2 2 2 2\n",
            "Player 1, enter your move (e.g., A2, B5, E1): D4\n",
            "Player 1 moved to D4\n",
            "   1 2 3 4 5\n",
            "A 1 1 1 1 2\n",
            "B 1 1 2 2 1\n",
            "C 2 1 2 2 2\n",
            "D 1 1 1 1 2\n",
            "E 1 2 2 2 2\n",
            "It's a draw!\n"
          ]
        }
      ],
      "source": [
        "import random\n",
        "\n",
        "def print_board(board):\n",
        "    print(\"   1 2 3 4 5\")\n",
        "    for i, row in enumerate(board):\n",
        "        print(chr(65 + i), \" \".join(map(str, row)))\n",
        "\n",
        "def check_game_status(board):\n",
        "    n = len(board)\n",
        "    for row in board:\n",
        "        if row.count(row[0]) == n and row[0] != 0:\n",
        "            return row[0]\n",
        "    for col in range(n):\n",
        "        column = [board[row][col] for row in range(n)]\n",
        "        if column.count(column[0]) == n and column[0] != 0:\n",
        "            return column[0]\n",
        "    if all(board[i][i] == board[0][0] for i in range(n)) and board[0][0] != 0:\n",
        "        return board[0][0]\n",
        "    if all(board[i][n - 1 - i] == board[0][n - 1] for i in range(n)) and board[0][n - 1] != 0:\n",
        "        return board[0][n - 1]\n",
        "    for row in board:\n",
        "        if 0 in row:\n",
        "            return -1\n",
        "    return 0\n",
        "\n",
        "def place_marker_with_labels(board, player, position):\n",
        "    row_labels = ['A', 'B', 'C', 'D', 'E']\n",
        "    col_labels = ['1', '2', '3', '4', '5']\n",
        "    row = row_labels.index(position[0])\n",
        "    col = col_labels.index(position[1])\n",
        "    if board[row][col] == 0:\n",
        "        board[row][col] = player\n",
        "        return True\n",
        "    return False\n",
        "\n",
        "def modify_board_with_location(board, player, position):\n",
        "    return place_marker_with_labels(board, player, position)\n",
        "\n",
        "def player_move(board, player):\n",
        "    while True:\n",
        "        position = input(f\"Player {player}, enter your move (e.g., A2, B5, E1): \").upper()\n",
        "        if position[0] in ['A', 'B', 'C', 'D', 'E'] and position[1] in ['1', '2', '3', '4', '5']:\n",
        "            if modify_board_with_location(board, player, position):\n",
        "                print(f\"Player {player} moved to {position}\")\n",
        "                break\n",
        "            else:\n",
        "                print(\"That spot is already taken. Try again.\")\n",
        "        else:\n",
        "            print(\"Invalid input. Please enter a valid position like 'A2', 'B3', etc.\")\n",
        "\n",
        "def computer_move(board, player):\n",
        "    opponent = 1 if player == 2 else 2\n",
        "\n",
        "    def find_winning_move(player):\n",
        "        for row in range(len(board)):\n",
        "            for col in range(len(board)):\n",
        "                if board[row][col] == 0:\n",
        "                    board[row][col] = player\n",
        "                    if check_game_status(board) == player:\n",
        "                        return (row, col)\n",
        "                    board[row][col] = 0\n",
        "        return None\n",
        "\n",
        "    move = find_winning_move(player)\n",
        "    if move:\n",
        "        print(f\"Computer (Player {player}) moves to {chr(move[0] + 65)}{move[1] + 1}\")\n",
        "        board[move[0]][move[1]] = player\n",
        "        return\n",
        "\n",
        "    move = find_winning_move(opponent)\n",
        "    if move:\n",
        "        print(f\"Computer (Player {player}) blocks at {chr(move[0] + 65)}{move[1] + 1}\")\n",
        "        board[move[0]][move[1]] = player\n",
        "        return\n",
        "\n",
        "    empty_spaces = [(row, col) for row in range(len(board)) for col in range(len(board)) if board[row][col] == 0]\n",
        "    move = random.choice(empty_spaces)\n",
        "    print(f\"Computer (Player {player}) moves to {chr(move[0] + 65)}{move[1] + 1}\")\n",
        "    board[move[0]][move[1]] = player\n",
        "\n",
        "def play_game():\n",
        "    board = [[0, 0, 0, 0, 0], [0, 0, 0, 0, 0], [0, 0, 0, 0, 0], [0, 0, 0, 0, 0], [0, 0, 0, 0, 0]]\n",
        "    print_board(board)\n",
        "    current_player = 1\n",
        "\n",
        "    while True:\n",
        "        if current_player == 1:\n",
        "            player_move(board, current_player)\n",
        "        else:\n",
        "            computer_move(board, current_player)\n",
        "        print_board(board)\n",
        "\n",
        "        game_status = check_game_status(board)\n",
        "\n",
        "        if game_status == 1:\n",
        "            print(\"Player 1 wins!\")\n",
        "            break\n",
        "        elif game_status == 2:\n",
        "            print(\"Computer wins!\")\n",
        "            break\n",
        "        elif game_status == 0:\n",
        "            print(\"It's a draw!\")\n",
        "            break\n",
        "\n",
        "        current_player = 2 if current_player == 1 else 1\n",
        "\n",
        "play_game()"
      ]
    }
  ],
  "metadata": {
    "kernelspec": {
      "display_name": "Python 3 (ipykernel)",
      "language": "python",
      "name": "python3"
    },
    "language_info": {
      "codemirror_mode": {
        "name": "ipython",
        "version": 3
      },
      "file_extension": ".py",
      "mimetype": "text/x-python",
      "name": "python",
      "nbconvert_exporter": "python",
      "pygments_lexer": "ipython3",
      "version": "3.9.6"
    },
    "colab": {
      "provenance": []
    }
  },
  "nbformat": 4,
  "nbformat_minor": 0
}